{
  "cells": [
    {
      "cell_type": "code",
      "execution_count": null,
      "metadata": {
        "id": "Du3-JHgoDOLt"
      },
      "outputs": [],
      "source": [
        "import os\n",
        "import shutil"
      ]
    },
    {
      "cell_type": "code",
      "execution_count": null,
      "metadata": {
        "id": "pKPIVnt32mGB"
      },
      "outputs": [],
      "source": [
        "#!git clone https://github.com/ahmedramadan96/EALPR.git"
      ]
    },
    {
      "cell_type": "code",
      "execution_count": null,
      "metadata": {
        "id": "qMFltO6vEw4I"
      },
      "outputs": [],
      "source": [
        "data='/content/drive/MyDrive/plate detection/EALPR Vechicles dataset/'"
      ]
    },
    {
      "cell_type": "code",
      "execution_count": null,
      "metadata": {
        "id": "CPASxB36DiwJ"
      },
      "outputs": [],
      "source": [
        "#os.rename(data+'Vehicles',data+'images')\n",
        "#os.rename(data+'Vehicles Labeling',data+'labels')\n"
      ]
    },
    {
      "cell_type": "code",
      "execution_count": null,
      "metadata": {
        "id": "7nSXXzujWDgo"
      },
      "outputs": [],
      "source": [
        "#!mv '/content/EALPR/EALPR Vechicles dataset' '/content/drive/MyDrive/plate detection'"
      ]
    },
    {
      "cell_type": "code",
      "execution_count": null,
      "metadata": {
        "id": "66mlk8SjXG3l"
      },
      "outputs": [],
      "source": [
        "val_dir='/content/drive/MyDrive/plate detection/val/'"
      ]
    },
    {
      "cell_type": "code",
      "execution_count": null,
      "metadata": {
        "id": "AzB1fxBqT-ds"
      },
      "outputs": [],
      "source": [
        "#os.mkdir(val_dir)\n",
        "#os.mkdir(val_dir+'labels')\n",
        "#os.mkdir(val_dir+'images')\n"
      ]
    },
    {
      "cell_type": "code",
      "execution_count": null,
      "metadata": {
        "colab": {
          "base_uri": "https://localhost:8080/",
          "height": 70
        },
        "id": "vtGiE7AtS_x4",
        "outputId": "7a479689-a48e-41b3-a21d-c238f3d6be9e"
      },
      "outputs": [
        {
          "output_type": "execute_result",
          "data": {
            "text/plain": [
              "\"i=0\\nfor img in os.listdir(data+'images'):\\n  #print(img)\\n  shutil.move(data + 'images/'+img,val_dir+'images')\\n  shutil.move(data + 'labels/'+img[:-4]+'.txt',val_dir + 'labels')\\n  i+=1\\n  if i ==400:\\n    break\""
            ],
            "application/vnd.google.colaboratory.intrinsic+json": {
              "type": "string"
            }
          },
          "metadata": {},
          "execution_count": 6
        }
      ],
      "source": [
        "i=0\n",
        "for img in os.listdir(data+'images'):\n",
        "  #print(img)\n",
        "  shutil.move(data + 'images/'+img,val_dir+'images')\n",
        "  shutil.move(data + 'labels/'+img[:-4]+'.txt',val_dir + 'labels')\n",
        "  i+=1\n",
        "  if i ==400:\n",
        "    break"
      ]
    },
    {
      "cell_type": "code",
      "execution_count": null,
      "metadata": {
        "colab": {
          "base_uri": "https://localhost:8080/"
        },
        "id": "hagB2D1dHMBw",
        "outputId": "9993ec2d-08ab-4dc0-f6c3-d9ca4e806f98"
      },
      "outputs": [
        {
          "output_type": "stream",
          "name": "stdout",
          "text": [
            "1688\n"
          ]
        }
      ],
      "source": [
        "print(len([name for name in os.listdir(data+'labels')]))"
      ]
    },
    {
      "cell_type": "code",
      "execution_count": null,
      "metadata": {
        "colab": {
          "base_uri": "https://localhost:8080/"
        },
        "id": "r8P4tf-KCd0K",
        "outputId": "a5b560c5-fc21-4c93-9c4e-254dc3a69779"
      },
      "outputs": [
        {
          "output_type": "stream",
          "name": "stdout",
          "text": [
            "400\n"
          ]
        }
      ],
      "source": [
        "print(len([name for name in os.listdir(val_dir+'labels')]))"
      ]
    },
    {
      "cell_type": "code",
      "source": [
        "!nvidia-smi"
      ],
      "metadata": {
        "colab": {
          "base_uri": "https://localhost:8080/"
        },
        "id": "xzaOLanYvRNe",
        "outputId": "d1c1da26-7c07-4329-8387-f934af78605d"
      },
      "execution_count": null,
      "outputs": [
        {
          "output_type": "stream",
          "name": "stdout",
          "text": [
            "Thu May 25 16:28:53 2023       \n",
            "+-----------------------------------------------------------------------------+\n",
            "| NVIDIA-SMI 525.85.12    Driver Version: 525.85.12    CUDA Version: 12.0     |\n",
            "|-------------------------------+----------------------+----------------------+\n",
            "| GPU  Name        Persistence-M| Bus-Id        Disp.A | Volatile Uncorr. ECC |\n",
            "| Fan  Temp  Perf  Pwr:Usage/Cap|         Memory-Usage | GPU-Util  Compute M. |\n",
            "|                               |                      |               MIG M. |\n",
            "|===============================+======================+======================|\n",
            "|   0  Tesla T4            Off  | 00000000:00:04.0 Off |                    0 |\n",
            "| N/A   57C    P8    13W /  70W |      0MiB / 15360MiB |      0%      Default |\n",
            "|                               |                      |                  N/A |\n",
            "+-------------------------------+----------------------+----------------------+\n",
            "                                                                               \n",
            "+-----------------------------------------------------------------------------+\n",
            "| Processes:                                                                  |\n",
            "|  GPU   GI   CI        PID   Type   Process name                  GPU Memory |\n",
            "|        ID   ID                                                   Usage      |\n",
            "|=============================================================================|\n",
            "|  No running processes found                                                 |\n",
            "+-----------------------------------------------------------------------------+\n"
          ]
        }
      ]
    },
    {
      "cell_type": "code",
      "execution_count": null,
      "metadata": {
        "id": "I-iPV5xfEhEV"
      },
      "outputs": [],
      "source": [
        "with open(f\"/content/plate_detection.yaml\", \"w+\") as file_:\n",
        "  file_.write(\n",
        "           f\"\"\"\n",
        "           train: {data}\n",
        "           val: {val_dir}\n",
        "           test:  # test images (optional)\n",
        "           nc: 1\n",
        "           names: [\"plate\"]\n",
        "            \"\"\"\n",
        ")"
      ]
    },
    {
      "cell_type": "code",
      "execution_count": null,
      "metadata": {
        "id": "RaQHZRbc2z2y",
        "colab": {
          "base_uri": "https://localhost:8080/"
        },
        "outputId": "def2a270-f11f-4c15-c1f7-2e972eebe65e"
      },
      "outputs": [
        {
          "output_type": "stream",
          "name": "stdout",
          "text": [
            "Cloning into 'yolov5'...\n",
            "remote: Enumerating objects: 15705, done.\u001b[K\n",
            "remote: Counting objects: 100% (33/33), done.\u001b[K\n",
            "remote: Compressing objects: 100% (27/27), done.\u001b[K\n",
            "remote: Total 15705 (delta 9), reused 23 (delta 6), pack-reused 15672\u001b[K\n",
            "Receiving objects: 100% (15705/15705), 14.44 MiB | 10.44 MiB/s, done.\n",
            "Resolving deltas: 100% (10755/10755), done.\n"
          ]
        }
      ],
      "source": [
        "!git clone https://github.com/ultralytics/yolov5  # clone\n"
      ]
    },
    {
      "cell_type": "code",
      "execution_count": null,
      "metadata": {
        "id": "gDZM-jph3eFh"
      },
      "outputs": [],
      "source": [
        "!pip install -r /content/yolov5/requirements.txt"
      ]
    },
    {
      "cell_type": "code",
      "execution_count": null,
      "metadata": {
        "id": "7VpUSb0nIJYx"
      },
      "outputs": [],
      "source": [
        "!mv /content/yolov5/models/yolov5s.yaml '/content/drive/MyDrive/plate detection/'"
      ]
    },
    {
      "cell_type": "code",
      "execution_count": null,
      "metadata": {
        "id": "chGXhSLN3thx",
        "colab": {
          "base_uri": "https://localhost:8080/"
        },
        "outputId": "5867a0d7-9558-4ebd-a943-69c127eb143c"
      },
      "outputs": [
        {
          "output_type": "stream",
          "name": "stdout",
          "text": [
            "\u001b[34m\u001b[1mtrain: \u001b[0mweights=yolov5s.pt, cfg=, data=/content/plate_detection.yaml, hyp=yolov5/data/hyps/hyp.scratch-low.yaml, epochs=50, batch_size=16, imgsz=416, rect=False, resume=False, nosave=False, noval=False, noautoanchor=False, noplots=False, evolve=None, bucket=, cache=ram, image_weights=False, device=, multi_scale=False, single_cls=False, optimizer=Adam, sync_bn=False, workers=8, project=yolov5/runs/train, name=exp, exist_ok=False, quad=False, cos_lr=False, label_smoothing=0.0, patience=100, freeze=[0], save_period=-1, seed=0, local_rank=-1, entity=None, upload_dataset=False, bbox_interval=-1, artifact_alias=latest\n",
            "\u001b[34m\u001b[1mgithub: \u001b[0mup to date with https://github.com/ultralytics/yolov5 ✅\n",
            "YOLOv5 🚀 v7.0-172-gc3c1304 Python-3.10.11 torch-2.0.1+cu118 CUDA:0 (Tesla T4, 15102MiB)\n",
            "\n",
            "\u001b[34m\u001b[1mhyperparameters: \u001b[0mlr0=0.01, lrf=0.01, momentum=0.937, weight_decay=0.0005, warmup_epochs=3.0, warmup_momentum=0.8, warmup_bias_lr=0.1, box=0.05, cls=0.5, cls_pw=1.0, obj=1.0, obj_pw=1.0, iou_t=0.2, anchor_t=4.0, fl_gamma=0.0, hsv_h=0.015, hsv_s=0.7, hsv_v=0.4, degrees=0.0, translate=0.1, scale=0.5, shear=0.0, perspective=0.0, flipud=0.0, fliplr=0.5, mosaic=1.0, mixup=0.0, copy_paste=0.0\n",
            "\u001b[34m\u001b[1mClearML: \u001b[0mrun 'pip install clearml' to automatically track, visualize and remotely train YOLOv5 🚀 in ClearML\n",
            "\u001b[34m\u001b[1mComet: \u001b[0mrun 'pip install comet_ml' to automatically track and visualize YOLOv5 🚀 runs in Comet\n",
            "\u001b[34m\u001b[1mTensorBoard: \u001b[0mStart with 'tensorboard --logdir yolov5/runs/train', view at http://localhost:6006/\n",
            "Downloading https://ultralytics.com/assets/Arial.ttf to /root/.config/Ultralytics/Arial.ttf...\n",
            "100% 755k/755k [00:00<00:00, 129MB/s]\n",
            "Downloading https://github.com/ultralytics/yolov5/releases/download/v7.0/yolov5s.pt to yolov5s.pt...\n",
            "100% 14.1M/14.1M [00:00<00:00, 200MB/s]\n",
            "\n",
            "Overriding model.yaml nc=80 with nc=1\n",
            "\n",
            "                 from  n    params  module                                  arguments                     \n",
            "  0                -1  1      3520  models.common.Conv                      [3, 32, 6, 2, 2]              \n",
            "  1                -1  1     18560  models.common.Conv                      [32, 64, 3, 2]                \n",
            "  2                -1  1     18816  models.common.C3                        [64, 64, 1]                   \n",
            "  3                -1  1     73984  models.common.Conv                      [64, 128, 3, 2]               \n",
            "  4                -1  2    115712  models.common.C3                        [128, 128, 2]                 \n",
            "  5                -1  1    295424  models.common.Conv                      [128, 256, 3, 2]              \n",
            "  6                -1  3    625152  models.common.C3                        [256, 256, 3]                 \n",
            "  7                -1  1   1180672  models.common.Conv                      [256, 512, 3, 2]              \n",
            "  8                -1  1   1182720  models.common.C3                        [512, 512, 1]                 \n",
            "  9                -1  1    656896  models.common.SPPF                      [512, 512, 5]                 \n",
            " 10                -1  1    131584  models.common.Conv                      [512, 256, 1, 1]              \n",
            " 11                -1  1         0  torch.nn.modules.upsampling.Upsample    [None, 2, 'nearest']          \n",
            " 12           [-1, 6]  1         0  models.common.Concat                    [1]                           \n",
            " 13                -1  1    361984  models.common.C3                        [512, 256, 1, False]          \n",
            " 14                -1  1     33024  models.common.Conv                      [256, 128, 1, 1]              \n",
            " 15                -1  1         0  torch.nn.modules.upsampling.Upsample    [None, 2, 'nearest']          \n",
            " 16           [-1, 4]  1         0  models.common.Concat                    [1]                           \n",
            " 17                -1  1     90880  models.common.C3                        [256, 128, 1, False]          \n",
            " 18                -1  1    147712  models.common.Conv                      [128, 128, 3, 2]              \n",
            " 19          [-1, 14]  1         0  models.common.Concat                    [1]                           \n",
            " 20                -1  1    296448  models.common.C3                        [256, 256, 1, False]          \n",
            " 21                -1  1    590336  models.common.Conv                      [256, 256, 3, 2]              \n",
            " 22          [-1, 10]  1         0  models.common.Concat                    [1]                           \n",
            " 23                -1  1   1182720  models.common.C3                        [512, 512, 1, False]          \n",
            " 24      [17, 20, 23]  1     16182  models.yolo.Detect                      [1, [[10, 13, 16, 30, 33, 23], [30, 61, 62, 45, 59, 119], [116, 90, 156, 198, 373, 326]], [128, 256, 512]]\n",
            "Model summary: 214 layers, 7022326 parameters, 7022326 gradients, 15.9 GFLOPs\n",
            "\n",
            "Transferred 343/349 items from yolov5s.pt\n",
            "\u001b[34m\u001b[1mAMP: \u001b[0mchecks passed ✅\n",
            "\u001b[34m\u001b[1moptimizer:\u001b[0m Adam(lr=0.01) with parameter groups 57 weight(decay=0.0), 60 weight(decay=0.0005), 60 bias\n",
            "\u001b[34m\u001b[1malbumentations: \u001b[0mBlur(p=0.01, blur_limit=(3, 7)), MedianBlur(p=0.01, blur_limit=(3, 7)), ToGray(p=0.01), CLAHE(p=0.01, clip_limit=(1, 4.0), tile_grid_size=(8, 8))\n",
            "\u001b[34m\u001b[1mtrain: \u001b[0mScanning /content/drive/MyDrive/plate detection/EALPR Vechicles dataset/labels... 1686 images, 0 backgrounds, 1 corrupt: 100% 1687/1687 [23:42<00:00,  1.19it/s]\n",
            "\u001b[34m\u001b[1mtrain: \u001b[0mWARNING ⚠️ /content/drive/MyDrive/plate detection/EALPR Vechicles dataset/images/2018.jpg: ignoring corrupt image/label: image file is truncated (1 bytes not processed)\n",
            "\u001b[34m\u001b[1mtrain: \u001b[0mNew cache created: /content/drive/MyDrive/plate detection/EALPR Vechicles dataset/labels.cache\n",
            "\u001b[34m\u001b[1mtrain: \u001b[0mCaching images (0.7GB ram): 100% 1686/1686 [00:30<00:00, 55.95it/s]\n",
            "\u001b[34m\u001b[1mval: \u001b[0mScanning /content/drive/MyDrive/plate detection/val/labels.cache... 400 images, 0 backgrounds, 0 corrupt: 100% 400/400 [00:00<?, ?it/s]\n",
            "\u001b[34m\u001b[1mval: \u001b[0mCaching images (0.2GB ram): 100% 400/400 [00:11<00:00, 34.41it/s]\n",
            "\n",
            "\u001b[34m\u001b[1mAutoAnchor: \u001b[0m5.15 anchors/target, 1.000 Best Possible Recall (BPR). Current anchors are a good fit to dataset ✅\n",
            "Plotting labels to yolov5/runs/train/exp/labels.jpg... \n",
            "Image sizes 416 train, 416 val\n",
            "Using 2 dataloader workers\n",
            "Logging results to \u001b[1myolov5/runs/train/exp\u001b[0m\n",
            "Starting training for 50 epochs...\n",
            "\n",
            "      Epoch    GPU_mem   box_loss   obj_loss   cls_loss  Instances       Size\n",
            "       0/49      1.56G    0.05923    0.01408          0          5        416: 100% 106/106 [00:20<00:00,  5.12it/s]\n",
            "                 Class     Images  Instances          P          R      mAP50   mAP50-95: 100% 13/13 [00:05<00:00,  2.54it/s]\n",
            "                   all        400        422      0.194      0.962      0.509       0.18\n",
            "\n",
            "      Epoch    GPU_mem   box_loss   obj_loss   cls_loss  Instances       Size\n",
            "       1/49      1.73G     0.0404   0.008411          0          7        416: 100% 106/106 [00:15<00:00,  7.06it/s]\n",
            "                 Class     Images  Instances          P          R      mAP50   mAP50-95: 100% 13/13 [00:02<00:00,  5.01it/s]\n",
            "                   all        400        422      0.778      0.832      0.833      0.363\n",
            "\n",
            "      Epoch    GPU_mem   box_loss   obj_loss   cls_loss  Instances       Size\n",
            "       2/49      1.73G    0.03758   0.007606          0         10        416: 100% 106/106 [00:14<00:00,  7.15it/s]\n",
            "                 Class     Images  Instances          P          R      mAP50   mAP50-95: 100% 13/13 [00:02<00:00,  5.24it/s]\n",
            "                   all        400        422      0.696      0.786      0.776      0.366\n",
            "\n",
            "      Epoch    GPU_mem   box_loss   obj_loss   cls_loss  Instances       Size\n",
            "       3/49      1.73G    0.03668   0.007771          0         14        416: 100% 106/106 [00:14<00:00,  7.27it/s]\n",
            "                 Class     Images  Instances          P          R      mAP50   mAP50-95: 100% 13/13 [00:03<00:00,  4.10it/s]\n",
            "                   all        400        422      0.932      0.872      0.912      0.646\n",
            "\n",
            "      Epoch    GPU_mem   box_loss   obj_loss   cls_loss  Instances       Size\n",
            "       4/49      1.73G    0.03112   0.007256          0         14        416: 100% 106/106 [00:14<00:00,  7.44it/s]\n",
            "                 Class     Images  Instances          P          R      mAP50   mAP50-95: 100% 13/13 [00:03<00:00,  4.28it/s]\n",
            "                   all        400        422      0.972      0.874      0.935       0.65\n",
            "\n",
            "      Epoch    GPU_mem   box_loss   obj_loss   cls_loss  Instances       Size\n",
            "       5/49      1.73G    0.02917   0.006579          0         10        416: 100% 106/106 [00:14<00:00,  7.26it/s]\n",
            "                 Class     Images  Instances          P          R      mAP50   mAP50-95: 100% 13/13 [00:02<00:00,  5.12it/s]\n",
            "                   all        400        422      0.952      0.947      0.968      0.705\n",
            "\n",
            "      Epoch    GPU_mem   box_loss   obj_loss   cls_loss  Instances       Size\n",
            "       6/49      1.73G    0.02722   0.006158          0         13        416: 100% 106/106 [00:14<00:00,  7.30it/s]\n",
            "                 Class     Images  Instances          P          R      mAP50   mAP50-95: 100% 13/13 [00:02<00:00,  5.06it/s]\n",
            "                   all        400        422       0.97      0.931      0.965      0.709\n",
            "\n",
            "      Epoch    GPU_mem   box_loss   obj_loss   cls_loss  Instances       Size\n",
            "       7/49      1.73G    0.02702   0.006293          0          8        416: 100% 106/106 [00:14<00:00,  7.24it/s]\n",
            "                 Class     Images  Instances          P          R      mAP50   mAP50-95: 100% 13/13 [00:02<00:00,  5.10it/s]\n",
            "                   all        400        422      0.948      0.943      0.971      0.691\n",
            "\n",
            "      Epoch    GPU_mem   box_loss   obj_loss   cls_loss  Instances       Size\n",
            "       8/49      1.73G    0.02509   0.005962          0          7        416: 100% 106/106 [00:14<00:00,  7.07it/s]\n",
            "                 Class     Images  Instances          P          R      mAP50   mAP50-95: 100% 13/13 [00:03<00:00,  3.74it/s]\n",
            "                   all        400        422       0.97      0.935      0.965      0.727\n",
            "\n",
            "      Epoch    GPU_mem   box_loss   obj_loss   cls_loss  Instances       Size\n",
            "       9/49      1.73G    0.02424   0.006019          0         13        416: 100% 106/106 [00:16<00:00,  6.24it/s]\n",
            "                 Class     Images  Instances          P          R      mAP50   mAP50-95: 100% 13/13 [00:02<00:00,  6.31it/s]\n",
            "                   all        400        422      0.731      0.256      0.279      0.183\n",
            "\n",
            "      Epoch    GPU_mem   box_loss   obj_loss   cls_loss  Instances       Size\n",
            "      10/49      1.73G    0.02347   0.005842          0          8        416: 100% 106/106 [00:14<00:00,  7.24it/s]\n",
            "                 Class     Images  Instances          P          R      mAP50   mAP50-95: 100% 13/13 [00:02<00:00,  5.07it/s]\n",
            "                   all        400        422      0.969      0.955      0.978      0.779\n",
            "\n",
            "      Epoch    GPU_mem   box_loss   obj_loss   cls_loss  Instances       Size\n",
            "      11/49      1.73G    0.02446   0.005949          0         10        416: 100% 106/106 [00:14<00:00,  7.25it/s]\n",
            "                 Class     Images  Instances          P          R      mAP50   mAP50-95: 100% 13/13 [00:02<00:00,  5.05it/s]\n",
            "                   all        400        422      0.986      0.934       0.98      0.767\n",
            "\n",
            "      Epoch    GPU_mem   box_loss   obj_loss   cls_loss  Instances       Size\n",
            "      12/49      1.73G    0.02165   0.005556          0          9        416: 100% 106/106 [00:14<00:00,  7.22it/s]\n",
            "                 Class     Images  Instances          P          R      mAP50   mAP50-95: 100% 13/13 [00:03<00:00,  4.03it/s]\n",
            "                   all        400        422      0.979      0.964      0.976      0.776\n",
            "\n",
            "      Epoch    GPU_mem   box_loss   obj_loss   cls_loss  Instances       Size\n",
            "      13/49      1.73G    0.02103   0.005375          0         12        416: 100% 106/106 [00:14<00:00,  7.35it/s]\n",
            "                 Class     Images  Instances          P          R      mAP50   mAP50-95: 100% 13/13 [00:03<00:00,  3.95it/s]\n",
            "                   all        400        422      0.971       0.96      0.982      0.784\n",
            "\n",
            "      Epoch    GPU_mem   box_loss   obj_loss   cls_loss  Instances       Size\n",
            "      14/49      1.73G    0.02024   0.005286          0         12        416: 100% 106/106 [00:14<00:00,  7.25it/s]\n",
            "                 Class     Images  Instances          P          R      mAP50   mAP50-95: 100% 13/13 [00:02<00:00,  5.08it/s]\n",
            "                   all        400        422      0.985       0.96      0.982      0.801\n",
            "\n",
            "      Epoch    GPU_mem   box_loss   obj_loss   cls_loss  Instances       Size\n",
            "      15/49      1.73G    0.02038   0.005302          0         11        416: 100% 106/106 [00:14<00:00,  7.23it/s]\n",
            "                 Class     Images  Instances          P          R      mAP50   mAP50-95: 100% 13/13 [00:02<00:00,  5.04it/s]\n",
            "                   all        400        422      0.954      0.955      0.981      0.787\n",
            "\n",
            "      Epoch    GPU_mem   box_loss   obj_loss   cls_loss  Instances       Size\n",
            "      16/49      1.73G    0.02005   0.005241          0         13        416: 100% 106/106 [00:14<00:00,  7.24it/s]\n",
            "                 Class     Images  Instances          P          R      mAP50   mAP50-95: 100% 13/13 [00:02<00:00,  5.05it/s]\n",
            "                   all        400        422      0.986      0.943      0.984      0.776\n",
            "\n",
            "      Epoch    GPU_mem   box_loss   obj_loss   cls_loss  Instances       Size\n",
            "      17/49      1.73G    0.02021   0.005218          0         12        416: 100% 106/106 [00:14<00:00,  7.07it/s]\n",
            "                 Class     Images  Instances          P          R      mAP50   mAP50-95: 100% 13/13 [00:02<00:00,  4.51it/s]\n",
            "                   all        400        422      0.987      0.964      0.984      0.809\n",
            "\n",
            "      Epoch    GPU_mem   box_loss   obj_loss   cls_loss  Instances       Size\n",
            "      18/49      1.73G    0.01992   0.005249          0          9        416: 100% 106/106 [00:14<00:00,  7.44it/s]\n",
            "                 Class     Images  Instances          P          R      mAP50   mAP50-95: 100% 13/13 [00:03<00:00,  3.82it/s]\n",
            "                   all        400        422      0.985       0.95      0.985      0.809\n",
            "\n",
            "      Epoch    GPU_mem   box_loss   obj_loss   cls_loss  Instances       Size\n",
            "      19/49      1.73G     0.0203   0.005116          0         12        416: 100% 106/106 [00:14<00:00,  7.22it/s]\n",
            "                 Class     Images  Instances          P          R      mAP50   mAP50-95: 100% 13/13 [00:02<00:00,  5.17it/s]\n",
            "                   all        400        422      0.963      0.964      0.983      0.739\n",
            "\n",
            "      Epoch    GPU_mem   box_loss   obj_loss   cls_loss  Instances       Size\n",
            "      20/49      1.73G    0.02009    0.00528          0          7        416: 100% 106/106 [00:14<00:00,  7.22it/s]\n",
            "                 Class     Images  Instances          P          R      mAP50   mAP50-95: 100% 13/13 [00:02<00:00,  4.84it/s]\n",
            "                   all        400        422       0.96       0.97      0.988      0.814\n",
            "\n",
            "      Epoch    GPU_mem   box_loss   obj_loss   cls_loss  Instances       Size\n",
            "      21/49      1.73G    0.01809   0.004863          0         12        416: 100% 106/106 [00:14<00:00,  7.10it/s]\n",
            "                 Class     Images  Instances          P          R      mAP50   mAP50-95: 100% 13/13 [00:02<00:00,  5.15it/s]\n",
            "                   all        400        422      0.983       0.95      0.991      0.808\n",
            "\n",
            "      Epoch    GPU_mem   box_loss   obj_loss   cls_loss  Instances       Size\n",
            "      22/49      1.73G    0.01896   0.004796          0          8        416: 100% 106/106 [00:14<00:00,  7.24it/s]\n",
            "                 Class     Images  Instances          P          R      mAP50   mAP50-95: 100% 13/13 [00:02<00:00,  4.74it/s]\n",
            "                   all        400        422      0.983      0.962      0.986      0.812\n",
            "\n",
            "      Epoch    GPU_mem   box_loss   obj_loss   cls_loss  Instances       Size\n",
            "      23/49      1.73G    0.01847   0.004903          0         13        416: 100% 106/106 [00:14<00:00,  7.53it/s]\n",
            "                 Class     Images  Instances          P          R      mAP50   mAP50-95: 100% 13/13 [00:03<00:00,  3.66it/s]\n",
            "                   all        400        422      0.989      0.962      0.985      0.834\n",
            "\n",
            "      Epoch    GPU_mem   box_loss   obj_loss   cls_loss  Instances       Size\n",
            "      24/49      1.73G     0.0182   0.004883          0         13        416: 100% 106/106 [00:14<00:00,  7.48it/s]\n",
            "                 Class     Images  Instances          P          R      mAP50   mAP50-95: 100% 13/13 [00:03<00:00,  4.29it/s]\n",
            "                   all        400        422      0.983      0.967      0.989      0.806\n",
            "\n",
            "      Epoch    GPU_mem   box_loss   obj_loss   cls_loss  Instances       Size\n",
            "      25/49      1.73G    0.01938   0.004884          0          8        416: 100% 106/106 [00:16<00:00,  6.62it/s]\n",
            "                 Class     Images  Instances          P          R      mAP50   mAP50-95: 100% 13/13 [00:02<00:00,  5.22it/s]\n",
            "                   all        400        422      0.988      0.961      0.988      0.799\n",
            "\n",
            "      Epoch    GPU_mem   box_loss   obj_loss   cls_loss  Instances       Size\n",
            "      26/49      1.73G    0.01801     0.0048          0         15        416: 100% 106/106 [00:15<00:00,  6.82it/s]\n",
            "                 Class     Images  Instances          P          R      mAP50   mAP50-95: 100% 13/13 [00:02<00:00,  5.10it/s]\n",
            "                   all        400        422       0.99      0.967      0.986      0.816\n",
            "\n",
            "      Epoch    GPU_mem   box_loss   obj_loss   cls_loss  Instances       Size\n",
            "      27/49      1.73G    0.01827   0.004752          0         14        416: 100% 106/106 [00:14<00:00,  7.20it/s]\n",
            "                 Class     Images  Instances          P          R      mAP50   mAP50-95: 100% 13/13 [00:03<00:00,  3.90it/s]\n",
            "                   all        400        422      0.969      0.953      0.986      0.801\n",
            "\n",
            "      Epoch    GPU_mem   box_loss   obj_loss   cls_loss  Instances       Size\n",
            "      28/49      1.73G     0.0173   0.004644          0         14        416: 100% 106/106 [00:14<00:00,  7.55it/s]\n",
            "                 Class     Images  Instances          P          R      mAP50   mAP50-95: 100% 13/13 [00:03<00:00,  3.91it/s]\n",
            "                   all        400        422      0.985      0.958      0.987      0.818\n",
            "\n",
            "      Epoch    GPU_mem   box_loss   obj_loss   cls_loss  Instances       Size\n",
            "      29/49      1.73G    0.01668   0.004454          0         11        416: 100% 106/106 [00:14<00:00,  7.21it/s]\n",
            "                 Class     Images  Instances          P          R      mAP50   mAP50-95: 100% 13/13 [00:02<00:00,  5.18it/s]\n",
            "                   all        400        422      0.979      0.972       0.99      0.829\n",
            "\n",
            "      Epoch    GPU_mem   box_loss   obj_loss   cls_loss  Instances       Size\n",
            "      30/49      1.73G    0.01693   0.004686          0         10        416: 100% 106/106 [00:14<00:00,  7.22it/s]\n",
            "                 Class     Images  Instances          P          R      mAP50   mAP50-95: 100% 13/13 [00:02<00:00,  5.19it/s]\n",
            "                   all        400        422      0.988      0.958      0.988      0.827\n",
            "\n",
            "      Epoch    GPU_mem   box_loss   obj_loss   cls_loss  Instances       Size\n",
            "      31/49      1.73G    0.01699    0.00462          0         16        416: 100% 106/106 [00:14<00:00,  7.22it/s]\n",
            "                 Class     Images  Instances          P          R      mAP50   mAP50-95: 100% 13/13 [00:02<00:00,  5.19it/s]\n",
            "                   all        400        422       0.99       0.96      0.991      0.836\n",
            "\n",
            "      Epoch    GPU_mem   box_loss   obj_loss   cls_loss  Instances       Size\n",
            "      32/49      1.73G    0.01619   0.004341          0         10        416: 100% 106/106 [00:14<00:00,  7.23it/s]\n",
            "                 Class     Images  Instances          P          R      mAP50   mAP50-95: 100% 13/13 [00:02<00:00,  4.45it/s]\n",
            "                   all        400        422      0.993      0.962      0.992      0.834\n",
            "\n",
            "      Epoch    GPU_mem   box_loss   obj_loss   cls_loss  Instances       Size\n",
            "      33/49      1.73G     0.0163   0.004476          0         12        416: 100% 106/106 [00:14<00:00,  7.38it/s]\n",
            "                 Class     Images  Instances          P          R      mAP50   mAP50-95: 100% 13/13 [00:03<00:00,  3.70it/s]\n",
            "                   all        400        422      0.975      0.964      0.989      0.835\n",
            "\n",
            "      Epoch    GPU_mem   box_loss   obj_loss   cls_loss  Instances       Size\n",
            "      34/49      1.73G    0.01626   0.004439          0          8        416: 100% 106/106 [00:14<00:00,  7.17it/s]\n",
            "                 Class     Images  Instances          P          R      mAP50   mAP50-95: 100% 13/13 [00:02<00:00,  5.28it/s]\n",
            "                   all        400        422      0.989      0.957      0.992      0.842\n",
            "\n",
            "      Epoch    GPU_mem   box_loss   obj_loss   cls_loss  Instances       Size\n",
            "      35/49      1.73G    0.01579   0.004342          0          8        416: 100% 106/106 [00:15<00:00,  6.92it/s]\n",
            "                 Class     Images  Instances          P          R      mAP50   mAP50-95: 100% 13/13 [00:02<00:00,  5.16it/s]\n",
            "                   all        400        422      0.983      0.961       0.99      0.809\n",
            "\n",
            "      Epoch    GPU_mem   box_loss   obj_loss   cls_loss  Instances       Size\n",
            "      36/49      1.73G    0.01537   0.004234          0          9        416: 100% 106/106 [00:14<00:00,  7.33it/s]\n",
            "                 Class     Images  Instances          P          R      mAP50   mAP50-95: 100% 13/13 [00:02<00:00,  5.07it/s]\n",
            "                   all        400        422      0.993      0.957      0.991      0.857\n",
            "\n",
            "      Epoch    GPU_mem   box_loss   obj_loss   cls_loss  Instances       Size\n",
            "      37/49      1.73G    0.01533   0.004319          0          8        416: 100% 106/106 [00:14<00:00,  7.31it/s]\n",
            "                 Class     Images  Instances          P          R      mAP50   mAP50-95: 100% 13/13 [00:02<00:00,  4.52it/s]\n",
            "                   all        400        422      0.992       0.96       0.99      0.834\n",
            "\n",
            "      Epoch    GPU_mem   box_loss   obj_loss   cls_loss  Instances       Size\n",
            "      38/49      1.73G    0.01517   0.004376          0         13        416: 100% 106/106 [00:14<00:00,  7.50it/s]\n",
            "                 Class     Images  Instances          P          R      mAP50   mAP50-95: 100% 13/13 [00:03<00:00,  3.67it/s]\n",
            "                   all        400        422      0.976      0.956       0.99      0.837\n",
            "\n",
            "      Epoch    GPU_mem   box_loss   obj_loss   cls_loss  Instances       Size\n",
            "      39/49      1.73G      0.015    0.00422          0         10        416: 100% 106/106 [00:14<00:00,  7.30it/s]\n",
            "                 Class     Images  Instances          P          R      mAP50   mAP50-95: 100% 13/13 [00:02<00:00,  5.21it/s]\n",
            "                   all        400        422      0.983      0.964      0.993      0.832\n",
            "\n",
            "      Epoch    GPU_mem   box_loss   obj_loss   cls_loss  Instances       Size\n",
            "      40/49      1.73G    0.01496   0.004093          0         12        416: 100% 106/106 [00:15<00:00,  6.67it/s]\n",
            "                 Class     Images  Instances          P          R      mAP50   mAP50-95: 100% 13/13 [00:02<00:00,  4.44it/s]\n",
            "                   all        400        422      0.983      0.962      0.992      0.853\n",
            "\n",
            "      Epoch    GPU_mem   box_loss   obj_loss   cls_loss  Instances       Size\n",
            "      41/49      1.73G    0.01466   0.003997          0         13        416: 100% 106/106 [00:14<00:00,  7.27it/s]\n",
            "                 Class     Images  Instances          P          R      mAP50   mAP50-95: 100% 13/13 [00:02<00:00,  5.22it/s]\n",
            "                   all        400        422      0.985      0.964      0.991      0.856\n",
            "\n",
            "      Epoch    GPU_mem   box_loss   obj_loss   cls_loss  Instances       Size\n",
            "      42/49      1.73G    0.01446   0.004102          0          9        416: 100% 106/106 [00:14<00:00,  7.24it/s]\n",
            "                 Class     Images  Instances          P          R      mAP50   mAP50-95: 100% 13/13 [00:02<00:00,  4.66it/s]\n",
            "                   all        400        422      0.988      0.964      0.993      0.857\n",
            "\n",
            "      Epoch    GPU_mem   box_loss   obj_loss   cls_loss  Instances       Size\n",
            "      43/49      1.73G    0.01337   0.003841          0         11        416: 100% 106/106 [00:14<00:00,  7.47it/s]\n",
            "                 Class     Images  Instances          P          R      mAP50   mAP50-95: 100% 13/13 [00:03<00:00,  3.73it/s]\n",
            "                   all        400        422      0.986      0.967      0.994      0.863\n",
            "\n",
            "      Epoch    GPU_mem   box_loss   obj_loss   cls_loss  Instances       Size\n",
            "      44/49      1.73G     0.0132   0.003773          0          6        416: 100% 106/106 [00:14<00:00,  7.26it/s]\n",
            "                 Class     Images  Instances          P          R      mAP50   mAP50-95: 100% 13/13 [00:02<00:00,  5.27it/s]\n",
            "                   all        400        422      0.992      0.969      0.994      0.857\n",
            "\n",
            "      Epoch    GPU_mem   box_loss   obj_loss   cls_loss  Instances       Size\n",
            "      45/49      1.73G    0.01318   0.003771          0          9        416: 100% 106/106 [00:14<00:00,  7.31it/s]\n",
            "                 Class     Images  Instances          P          R      mAP50   mAP50-95: 100% 13/13 [00:02<00:00,  5.18it/s]\n",
            "                   all        400        422      0.979      0.967      0.992      0.866\n",
            "\n",
            "      Epoch    GPU_mem   box_loss   obj_loss   cls_loss  Instances       Size\n",
            "      46/49      1.73G    0.01281   0.003714          0          4        416: 100% 106/106 [00:14<00:00,  7.28it/s]\n",
            "                 Class     Images  Instances          P          R      mAP50   mAP50-95: 100% 13/13 [00:02<00:00,  5.14it/s]\n",
            "                   all        400        422      0.988      0.966      0.993      0.872\n",
            "\n",
            "      Epoch    GPU_mem   box_loss   obj_loss   cls_loss  Instances       Size\n",
            "      47/49      1.73G    0.01262   0.003567          0          9        416: 100% 106/106 [00:14<00:00,  7.28it/s]\n",
            "                 Class     Images  Instances          P          R      mAP50   mAP50-95: 100% 13/13 [00:02<00:00,  4.94it/s]\n",
            "                   all        400        422      0.975      0.974      0.992      0.857\n",
            "\n",
            "      Epoch    GPU_mem   box_loss   obj_loss   cls_loss  Instances       Size\n",
            "      48/49      1.73G    0.01239    0.00347          0         13        416: 100% 106/106 [00:14<00:00,  7.52it/s]\n",
            "                 Class     Images  Instances          P          R      mAP50   mAP50-95: 100% 13/13 [00:03<00:00,  3.74it/s]\n",
            "                   all        400        422      0.985      0.967      0.993      0.864\n",
            "\n",
            "      Epoch    GPU_mem   box_loss   obj_loss   cls_loss  Instances       Size\n",
            "      49/49      1.73G      0.012   0.003472          0          9        416: 100% 106/106 [00:14<00:00,  7.29it/s]\n",
            "                 Class     Images  Instances          P          R      mAP50   mAP50-95: 100% 13/13 [00:02<00:00,  4.61it/s]\n",
            "                   all        400        422      0.982      0.969      0.993      0.872\n",
            "\n",
            "50 epochs completed in 0.254 hours.\n",
            "Optimizer stripped from yolov5/runs/train/exp/weights/last.pt, 14.3MB\n",
            "Optimizer stripped from yolov5/runs/train/exp/weights/best.pt, 14.3MB\n",
            "\n",
            "Validating yolov5/runs/train/exp/weights/best.pt...\n",
            "Fusing layers... \n",
            "Model summary: 157 layers, 7012822 parameters, 0 gradients, 15.8 GFLOPs\n",
            "                 Class     Images  Instances          P          R      mAP50   mAP50-95: 100% 13/13 [00:04<00:00,  2.86it/s]\n",
            "                   all        400        422      0.982      0.969      0.993      0.872\n",
            "Results saved to \u001b[1myolov5/runs/train/exp\u001b[0m\n"
          ]
        }
      ],
      "source": [
        "!python /content/yolov5/train.py --img 416 --batch 16 --epochs 50 --data /content/plate_detection.yaml  --weights yolov5s.pt --cache --optimizer Adam\n"
      ]
    },
    {
      "cell_type": "code",
      "execution_count": null,
      "metadata": {
        "id": "xK94ua0LS_Ag"
      },
      "outputs": [],
      "source": [
        "!cp /content/yolov5/runs/train/exp3/weights/best.pt '/content/drive/MyDrive/plate detection'"
      ]
    },
    {
      "cell_type": "code",
      "source": [
        "!zip -r /content/yolov5/runs/train/exp.zip  /content/yolov5/runs/train/exp"
      ],
      "metadata": {
        "id": "L9uD8-fiyYwB"
      },
      "execution_count": null,
      "outputs": []
    },
    {
      "cell_type": "code",
      "source": [],
      "metadata": {
        "id": "p5NrBji6-rJk"
      },
      "execution_count": null,
      "outputs": []
    }
  ],
  "metadata": {
    "accelerator": "GPU",
    "colab": {
      "provenance": []
    },
    "gpuClass": "standard",
    "kernelspec": {
      "display_name": "Python 3",
      "name": "python3"
    },
    "language_info": {
      "name": "python"
    }
  },
  "nbformat": 4,
  "nbformat_minor": 0
}