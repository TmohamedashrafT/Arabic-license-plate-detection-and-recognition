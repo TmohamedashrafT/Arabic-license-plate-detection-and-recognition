{
  "cells": [
    {
      "cell_type": "code",
      "execution_count": null,
      "metadata": {
        "id": "VmzD5NAK05Tc"
      },
      "outputs": [],
      "source": [
        "import numpy as np\n",
        "import pandas as pd\n",
        "import os\n",
        "import cv2\n",
        "import shutil\n",
        "from tensorflow.keras.preprocessing.image import ImageDataGenerator\n",
        "from sklearn.model_selection import train_test_split\n",
        "from tensorflow.keras.utils import to_categorical\n",
        "from tensorflow.keras.preprocessing import image_dataset_from_directory"
      ]
    },
    {
      "cell_type": "code",
      "execution_count": null,
      "metadata": {
        "colab": {
          "base_uri": "https://localhost:8080/"
        },
        "id": "8dwzk2WvEBvq",
        "outputId": "971e4ba8-ee0c-47f5-fef6-747f80b7f303"
      },
      "outputs": [
        {
          "output_type": "stream",
          "name": "stdout",
          "text": [
            "Mounted at /content/drive\n"
          ]
        }
      ],
      "source": [
        "from google.colab import drive\n",
        "drive.mount('/content/drive')"
      ]
    },
    {
      "cell_type": "code",
      "execution_count": null,
      "metadata": {
        "id": "NI3pYrNc1WBI"
      },
      "outputs": [],
      "source": [
        "Training='/content/drive/MyDrive/numbers_recognition_Vit/'"
      ]
    },
    {
      "cell_type": "code",
      "execution_count": null,
      "metadata": {
        "id": "rVsDg3jtEMp8"
      },
      "outputs": [],
      "source": [
        "train_datagen = ImageDataGenerator(rescale=1/255,validation_split=0.2,\n",
        "        rotation_range=30,\n",
        "        zoom_range = 0.1,\n",
        "        shear_range = 0.2,\n",
        "        width_shift_range=0.122,\n",
        "        height_shift_range=0.122,\n",
        "        brightness_range = (0.5, 1.5))"
      ]
    },
    {
      "cell_type": "code",
      "execution_count": null,
      "metadata": {
        "id": "PYhrSqvc6DSl"
      },
      "outputs": [],
      "source": [
        "valid_datagen = ImageDataGenerator(rescale=1/255,validation_split=0.2)"
      ]
    },
    {
      "cell_type": "code",
      "execution_count": null,
      "metadata": {
        "id": "DzkJGENN6ErV"
      },
      "outputs": [],
      "source": [
        "input_shape=(32,32,3)"
      ]
    },
    {
      "cell_type": "code",
      "execution_count": null,
      "metadata": {
        "colab": {
          "base_uri": "https://localhost:8080/"
        },
        "id": "3Yl81p-h6HkW",
        "outputId": "125610a8-4fab-4c9c-e545-eb5372dd46fe"
      },
      "outputs": [
        {
          "output_type": "stream",
          "name": "stdout",
          "text": [
            "Found 2194 images belonging to 9 classes.\n"
          ]
        }
      ],
      "source": [
        "train_data = train_datagen.flow_from_directory(\n",
        "   Training,\n",
        "    subset=\"training\",\n",
        "    seed=2,\n",
        "    target_size=(input_shape[0], input_shape[1]),\n",
        "    batch_size=32,\n",
        "    class_mode=\"categorical\")"
      ]
    },
    {
      "cell_type": "code",
      "execution_count": null,
      "metadata": {
        "colab": {
          "base_uri": "https://localhost:8080/"
        },
        "id": "kBpQBCEN6MTf",
        "outputId": "4e38fcb4-77f5-4a3d-8217-f987ba22c3b9"
      },
      "outputs": [
        {
          "output_type": "stream",
          "name": "stdout",
          "text": [
            "Found 544 images belonging to 9 classes.\n"
          ]
        }
      ],
      "source": [
        "valid_data = valid_datagen.flow_from_directory(\n",
        "   Training,\n",
        "    subset=\"validation\",\n",
        "    seed=2,\n",
        "    target_size=(input_shape[0], input_shape[1]),\n",
        "    batch_size=32,\n",
        "    class_mode=\"categorical\")"
      ]
    },
    {
      "cell_type": "code",
      "execution_count": null,
      "metadata": {
        "id": "XsSMHtXi6PzX"
      },
      "outputs": [],
      "source": [
        "## imports for model\n",
        "from tensorflow import keras\n",
        "from keras.layers import Dropout, Flatten,Activation ,Conv2D, MaxPooling2D, BatchNormalization\n",
        "from tensorflow.keras import Model\n",
        "from tensorflow.keras.optimizers import Adam\n",
        "import tensorflow as tf\n",
        "from tensorflow.keras.callbacks import ReduceLROnPlateau,EarlyStopping\n",
        "from tensorflow.keras.applications import ResNet50,DenseNet121,MobileNetV2\n"
      ]
    },
    {
      "cell_type": "code",
      "execution_count": null,
      "metadata": {
        "colab": {
          "base_uri": "https://localhost:8080/"
        },
        "id": "CdlF_JLdFNQ_",
        "outputId": "b6250749-7df3-4247-ad27-ed225878a44d"
      },
      "outputs": [
        {
          "output_type": "stream",
          "name": "stderr",
          "text": [
            "WARNING:tensorflow:`input_shape` is undefined or non-square, or `rows` is not in [96, 128, 160, 192, 224]. Weights for input shape (224, 224) will be loaded as the default.\n"
          ]
        },
        {
          "output_type": "stream",
          "name": "stdout",
          "text": [
            "Downloading data from https://storage.googleapis.com/tensorflow/keras-applications/mobilenet_v2/mobilenet_v2_weights_tf_dim_ordering_tf_kernels_1.0_224_no_top.h5\n",
            "9406464/9406464 [==============================] - 1s 0us/step\n"
          ]
        }
      ],
      "source": [
        "MobileNetV2=MobileNetV2(include_top=False,input_shape=(32, 32, 3))"
      ]
    },
    {
      "cell_type": "code",
      "execution_count": null,
      "metadata": {
        "colab": {
          "base_uri": "https://localhost:8080/"
        },
        "id": "xbR8yEelFfBc",
        "outputId": "7faf98d6-57ef-4ef8-b965-5fecab7327ae"
      },
      "outputs": [
        {
          "output_type": "stream",
          "name": "stderr",
          "text": [
            "WARNING:tensorflow:`epsilon` argument is deprecated and will be removed, use `min_delta` instead.\n"
          ]
        }
      ],
      "source": [
        "Early_Stopping = EarlyStopping(\n",
        "    monitor='val_loss', # Same as the\n",
        "    patience=5, # Wait for 5 epochs before stopping the training\n",
        "    verbose=1,\n",
        "    restore_best_weights='True', # Restore model weights from the epoch with the best value of the monitored quantity.\n",
        "    min_delta=0.1\n",
        ")\n",
        "reduce_on_plateau =ReduceLROnPlateau(\n",
        "        monitor  = 'loss',\n",
        "        factor   = 0.1,\n",
        "        patience = 2,\n",
        "        verbose  = 1,\n",
        "        mode     = 'min',\n",
        "        epsilon  = 0.01,\n",
        "        cooldown = 0,\n",
        "        min_lr   = 0\n",
        "    )"
      ]
    },
    {
      "cell_type": "code",
      "execution_count": null,
      "metadata": {
        "id": "XQ3Yhig-FRm8"
      },
      "outputs": [],
      "source": [
        "inputs = tf.keras.Input(shape=input_shape)\n",
        "x=MobileNetV2(inputs)\n",
        "x = layers.Flatten()(x)\n",
        "x = layers.Dense(1024, activation='relu')(x)\n",
        "x = layers.Dense(1024, activation='relu')(x)\n",
        "x = layers.Dense(1024, activation='relu')(x)\n",
        "x = layers.Dropout(0.3)(x)\n",
        "outputs = layers.Dense(9, activation='softmax')(x)\n",
        "model = tf.keras.Model(inputs, outputs)"
      ]
    },
    {
      "cell_type": "code",
      "execution_count": null,
      "metadata": {
        "id": "wIavISrF7hdP"
      },
      "outputs": [],
      "source": [
        "model.compile(loss='categorical_crossentropy',optimizer='adam',metrics=['accuracy'])"
      ]
    },
    {
      "cell_type": "code",
      "execution_count": null,
      "metadata": {
        "id": "_ewF6B4bnW6U",
        "colab": {
          "base_uri": "https://localhost:8080/"
        },
        "outputId": "d0e27ec3-4490-411d-ca2e-ffd53ac777cd"
      },
      "outputs": [
        {
          "output_type": "stream",
          "name": "stdout",
          "text": [
            "Model: \"model\"\n",
            "_________________________________________________________________\n",
            " Layer (type)                Output Shape              Param #   \n",
            "=================================================================\n",
            " input_2 (InputLayer)        [(None, 32, 32, 3)]       0         \n",
            "                                                                 \n",
            " mobilenetv2_1.00_224 (Funct  (None, 1, 1, 1280)       2257984   \n",
            " ional)                                                          \n",
            "                                                                 \n",
            " flatten (Flatten)           (None, 1280)              0         \n",
            "                                                                 \n",
            " dense (Dense)               (None, 1024)              1311744   \n",
            "                                                                 \n",
            " dense_1 (Dense)             (None, 1024)              1049600   \n",
            "                                                                 \n",
            " dense_2 (Dense)             (None, 1024)              1049600   \n",
            "                                                                 \n",
            " dropout (Dropout)           (None, 1024)              0         \n",
            "                                                                 \n",
            " dense_3 (Dense)             (None, 9)                 9225      \n",
            "                                                                 \n",
            "=================================================================\n",
            "Total params: 5,678,153\n",
            "Trainable params: 5,644,041\n",
            "Non-trainable params: 34,112\n",
            "_________________________________________________________________\n"
          ]
        }
      ],
      "source": [
        "model.summary()"
      ]
    },
    {
      "cell_type": "code",
      "execution_count": null,
      "metadata": {
        "colab": {
          "base_uri": "https://localhost:8080/"
        },
        "id": "oKcpn6az7ohS",
        "outputId": "34b6a319-d993-4d78-8083-508ebbf97d00"
      },
      "outputs": [
        {
          "output_type": "stream",
          "name": "stdout",
          "text": [
            "Epoch 1/200\n",
            "69/69 [==============================] - 40s 122ms/step - loss: 0.5641 - accuracy: 0.8756 - val_loss: 0.9410 - val_accuracy: 0.9191 - lr: 0.0010\n",
            "Epoch 2/200\n",
            "69/69 [==============================] - 8s 122ms/step - loss: 0.3509 - accuracy: 0.9385 - val_loss: 0.0403 - val_accuracy: 0.9890 - lr: 0.0010\n",
            "Epoch 3/200\n",
            "69/69 [==============================] - 8s 112ms/step - loss: 0.3440 - accuracy: 0.9376 - val_loss: 30.4474 - val_accuracy: 0.6636 - lr: 0.0010\n",
            "Epoch 4/200\n",
            "69/69 [==============================] - 7s 105ms/step - loss: 0.2662 - accuracy: 0.9462 - val_loss: 13.3907 - val_accuracy: 0.8015 - lr: 0.0010\n",
            "Epoch 5/200\n",
            "69/69 [==============================] - 8s 121ms/step - loss: 0.2734 - accuracy: 0.9471 - val_loss: 3.5878 - val_accuracy: 0.8199 - lr: 0.0010\n",
            "Epoch 6/200\n",
            "69/69 [==============================] - ETA: 0s - loss: 0.3893 - accuracy: 0.9211\n",
            "Epoch 6: ReduceLROnPlateau reducing learning rate to 0.00010000000474974513.\n",
            "69/69 [==============================] - 8s 112ms/step - loss: 0.3893 - accuracy: 0.9211 - val_loss: 14.5543 - val_accuracy: 0.7610 - lr: 0.0010\n",
            "Epoch 7/200\n",
            "69/69 [==============================] - 7s 107ms/step - loss: 0.2239 - accuracy: 0.9480 - val_loss: 5.0276 - val_accuracy: 0.8456 - lr: 1.0000e-04\n",
            "Epoch 8/200\n",
            "69/69 [==============================] - 8s 121ms/step - loss: 0.1548 - accuracy: 0.9654 - val_loss: 0.3219 - val_accuracy: 0.9798 - lr: 1.0000e-04\n",
            "Epoch 9/200\n",
            "69/69 [==============================] - 8s 114ms/step - loss: 0.1006 - accuracy: 0.9790 - val_loss: 0.2632 - val_accuracy: 0.9890 - lr: 1.0000e-04\n",
            "Epoch 10/200\n",
            "69/69 [==============================] - 8s 116ms/step - loss: 0.1216 - accuracy: 0.9717 - val_loss: 0.1663 - val_accuracy: 0.9963 - lr: 1.0000e-04\n",
            "Epoch 11/200\n",
            "69/69 [==============================] - ETA: 0s - loss: 0.1285 - accuracy: 0.9713\n",
            "Epoch 11: ReduceLROnPlateau reducing learning rate to 1.0000000474974514e-05.\n",
            "69/69 [==============================] - 9s 129ms/step - loss: 0.1285 - accuracy: 0.9713 - val_loss: 0.0093 - val_accuracy: 0.9963 - lr: 1.0000e-04\n",
            "Epoch 12/200\n",
            "69/69 [==============================] - 7s 107ms/step - loss: 0.0975 - accuracy: 0.9777 - val_loss: 0.0084 - val_accuracy: 0.9982 - lr: 1.0000e-05\n",
            "Epoch 13/200\n",
            "69/69 [==============================] - ETA: 0s - loss: 0.1269 - accuracy: 0.9745\n",
            "Epoch 13: ReduceLROnPlateau reducing learning rate to 1.0000000656873453e-06.\n",
            "69/69 [==============================] - 9s 124ms/step - loss: 0.1269 - accuracy: 0.9745 - val_loss: 0.0077 - val_accuracy: 0.9982 - lr: 1.0000e-05\n",
            "Epoch 14/200\n",
            "69/69 [==============================] - 8s 112ms/step - loss: 0.1001 - accuracy: 0.9749 - val_loss: 0.0073 - val_accuracy: 0.9982 - lr: 1.0000e-06\n",
            "Epoch 15/200\n",
            "69/69 [==============================] - ETA: 0s - loss: 0.0975 - accuracy: 0.9809\n",
            "Epoch 15: ReduceLROnPlateau reducing learning rate to 1.0000001111620805e-07.\n",
            "69/69 [==============================] - 7s 105ms/step - loss: 0.0975 - accuracy: 0.9809 - val_loss: 0.0072 - val_accuracy: 0.9982 - lr: 1.0000e-06\n",
            "Epoch 16/200\n",
            "69/69 [==============================] - 8s 110ms/step - loss: 0.1046 - accuracy: 0.9740 - val_loss: 0.0071 - val_accuracy: 0.9982 - lr: 1.0000e-07\n",
            "Epoch 17/200\n",
            "69/69 [==============================] - ETA: 0s - loss: 0.1188 - accuracy: 0.9708\n",
            "Epoch 17: ReduceLROnPlateau reducing learning rate to 1.000000082740371e-08.\n",
            "69/69 [==============================] - 9s 124ms/step - loss: 0.1188 - accuracy: 0.9708 - val_loss: 0.0070 - val_accuracy: 0.9982 - lr: 1.0000e-07\n",
            "Epoch 18/200\n",
            "69/69 [==============================] - 7s 106ms/step - loss: 0.1110 - accuracy: 0.9740 - val_loss: 0.0069 - val_accuracy: 0.9982 - lr: 1.0000e-08\n",
            "Epoch 19/200\n",
            "69/69 [==============================] - ETA: 0s - loss: 0.1050 - accuracy: 0.9781\n",
            "Epoch 19: ReduceLROnPlateau reducing learning rate to 1.000000082740371e-09.\n",
            "69/69 [==============================] - 8s 123ms/step - loss: 0.1050 - accuracy: 0.9781 - val_loss: 0.0068 - val_accuracy: 0.9982 - lr: 1.0000e-08\n",
            "Epoch 20/200\n",
            "69/69 [==============================] - 8s 112ms/step - loss: 0.1230 - accuracy: 0.9717 - val_loss: 0.0067 - val_accuracy: 0.9982 - lr: 1.0000e-09\n",
            "Epoch 21/200\n",
            "69/69 [==============================] - ETA: 0s - loss: 0.1010 - accuracy: 0.9786\n",
            "Epoch 21: ReduceLROnPlateau reducing learning rate to 1.000000082740371e-10.\n",
            "69/69 [==============================] - 7s 106ms/step - loss: 0.1010 - accuracy: 0.9786 - val_loss: 0.0066 - val_accuracy: 0.9963 - lr: 1.0000e-09\n",
            "Epoch 22/200\n",
            "69/69 [==============================] - 8s 120ms/step - loss: 0.0971 - accuracy: 0.9763 - val_loss: 0.0065 - val_accuracy: 0.9963 - lr: 1.0000e-10\n",
            "Epoch 23/200\n",
            "69/69 [==============================] - ETA: 0s - loss: 0.1032 - accuracy: 0.9781\n",
            "Epoch 23: ReduceLROnPlateau reducing learning rate to 1.000000082740371e-11.\n",
            "69/69 [==============================] - 7s 105ms/step - loss: 0.1032 - accuracy: 0.9781 - val_loss: 0.0064 - val_accuracy: 0.9963 - lr: 1.0000e-10\n",
            "Epoch 24/200\n",
            "69/69 [==============================] - 7s 106ms/step - loss: 0.1265 - accuracy: 0.9736 - val_loss: 0.0063 - val_accuracy: 0.9963 - lr: 1.0000e-11\n",
            "Epoch 25/200\n",
            "69/69 [==============================] - ETA: 0s - loss: 0.1433 - accuracy: 0.9658\n",
            "Epoch 25: ReduceLROnPlateau reducing learning rate to 1.000000082740371e-12.\n",
            "69/69 [==============================] - 9s 126ms/step - loss: 0.1433 - accuracy: 0.9658 - val_loss: 0.0063 - val_accuracy: 0.9963 - lr: 1.0000e-11\n",
            "Epoch 26/200\n",
            "69/69 [==============================] - 8s 114ms/step - loss: 0.1005 - accuracy: 0.9818 - val_loss: 0.0063 - val_accuracy: 0.9963 - lr: 1.0000e-12\n",
            "Epoch 27/200\n",
            "69/69 [==============================] - ETA: 0s - loss: 0.0976 - accuracy: 0.9745\n",
            "Epoch 27: ReduceLROnPlateau reducing learning rate to 1.0000001044244145e-13.\n",
            "69/69 [==============================] - 7s 108ms/step - loss: 0.0976 - accuracy: 0.9745 - val_loss: 0.0063 - val_accuracy: 0.9963 - lr: 1.0000e-12\n",
            "Epoch 28/200\n",
            "69/69 [==============================] - 9s 124ms/step - loss: 0.1114 - accuracy: 0.9736 - val_loss: 0.0063 - val_accuracy: 0.9963 - lr: 1.0000e-13\n",
            "Epoch 29/200\n",
            "69/69 [==============================] - ETA: 0s - loss: 0.1414 - accuracy: 0.9749\n",
            "Epoch 29: ReduceLROnPlateau reducing learning rate to 1.0000001179769417e-14.\n",
            "69/69 [==============================] - 8s 122ms/step - loss: 0.1414 - accuracy: 0.9749 - val_loss: 0.0063 - val_accuracy: 0.9963 - lr: 1.0000e-13\n",
            "Epoch 30/200\n",
            "69/69 [==============================] - 8s 120ms/step - loss: 0.1161 - accuracy: 0.9727 - val_loss: 0.0064 - val_accuracy: 0.9963 - lr: 1.0000e-14\n",
            "Epoch 31/200\n",
            "69/69 [==============================] - ETA: 0s - loss: 0.1083 - accuracy: 0.9772\n",
            "Epoch 31: ReduceLROnPlateau reducing learning rate to 1.0000001518582595e-15.\n",
            "69/69 [==============================] - 9s 128ms/step - loss: 0.1083 - accuracy: 0.9772 - val_loss: 0.0064 - val_accuracy: 0.9963 - lr: 1.0000e-14\n",
            "Epoch 32/200\n",
            "69/69 [==============================] - 8s 113ms/step - loss: 0.1100 - accuracy: 0.9768 - val_loss: 0.0063 - val_accuracy: 0.9963 - lr: 1.0000e-15\n",
            "Epoch 33/200\n",
            "69/69 [==============================] - ETA: 0s - loss: 0.1024 - accuracy: 0.9740\n",
            "Epoch 33: ReduceLROnPlateau reducing learning rate to 1.0000001095066122e-16.\n",
            "69/69 [==============================] - 9s 125ms/step - loss: 0.1024 - accuracy: 0.9740 - val_loss: 0.0063 - val_accuracy: 0.9963 - lr: 1.0000e-15\n",
            "Epoch 34/200\n",
            "69/69 [==============================] - 8s 110ms/step - loss: 0.1029 - accuracy: 0.9736 - val_loss: 0.0063 - val_accuracy: 0.9963 - lr: 1.0000e-16\n",
            "Epoch 35/200\n",
            "69/69 [==============================] - ETA: 0s - loss: 0.1151 - accuracy: 0.9727\n",
            "Epoch 35: ReduceLROnPlateau reducing learning rate to 1.0000000830368326e-17.\n",
            "69/69 [==============================] - 8s 115ms/step - loss: 0.1151 - accuracy: 0.9727 - val_loss: 0.0062 - val_accuracy: 0.9963 - lr: 1.0000e-16\n",
            "Epoch 36/200\n",
            "69/69 [==============================] - 9s 123ms/step - loss: 0.0930 - accuracy: 0.9790 - val_loss: 0.0063 - val_accuracy: 0.9963 - lr: 1.0000e-17\n",
            "Epoch 37/200\n",
            "69/69 [==============================] - ETA: 0s - loss: 0.0952 - accuracy: 0.9749\n",
            "Epoch 37: ReduceLROnPlateau reducing learning rate to 1.0000000664932204e-18.\n",
            "69/69 [==============================] - 7s 106ms/step - loss: 0.0952 - accuracy: 0.9749 - val_loss: 0.0063 - val_accuracy: 0.9963 - lr: 1.0000e-17\n",
            "Epoch 38/200\n",
            "69/69 [==============================] - 9s 124ms/step - loss: 0.0829 - accuracy: 0.9804 - val_loss: 0.0063 - val_accuracy: 0.9963 - lr: 1.0000e-18\n",
            "Epoch 39/200\n",
            "69/69 [==============================] - 8s 116ms/step - loss: 0.1031 - accuracy: 0.9768 - val_loss: 0.0064 - val_accuracy: 0.9963 - lr: 1.0000e-18\n",
            "Epoch 40/200\n",
            "69/69 [==============================] - ETA: 0s - loss: 0.0984 - accuracy: 0.9781\n",
            "Epoch 40: ReduceLROnPlateau reducing learning rate to 1.000000045813705e-19.\n",
            "69/69 [==============================] - 8s 110ms/step - loss: 0.0984 - accuracy: 0.9781 - val_loss: 0.0065 - val_accuracy: 0.9963 - lr: 1.0000e-18\n",
            "Epoch 41/200\n",
            "69/69 [==============================] - 8s 123ms/step - loss: 0.1085 - accuracy: 0.9736 - val_loss: 0.0065 - val_accuracy: 0.9963 - lr: 1.0000e-19\n",
            "Epoch 42/200\n",
            "69/69 [==============================] - ETA: 0s - loss: 0.1536 - accuracy: 0.9736\n",
            "Epoch 42: ReduceLROnPlateau reducing learning rate to 1.000000032889008e-20.\n",
            "69/69 [==============================] - 8s 111ms/step - loss: 0.1536 - accuracy: 0.9736 - val_loss: 0.0066 - val_accuracy: 0.9963 - lr: 1.0000e-19\n",
            "Epoch 43/200\n",
            "69/69 [==============================] - 7s 106ms/step - loss: 0.1184 - accuracy: 0.9731 - val_loss: 0.0067 - val_accuracy: 0.9963 - lr: 1.0000e-20\n",
            "Epoch 44/200\n",
            "69/69 [==============================] - ETA: 0s - loss: 0.0993 - accuracy: 0.9763\n",
            "Epoch 44: ReduceLROnPlateau reducing learning rate to 1.0000000490448793e-21.\n",
            "69/69 [==============================] - 8s 123ms/step - loss: 0.0993 - accuracy: 0.9763 - val_loss: 0.0067 - val_accuracy: 0.9963 - lr: 1.0000e-20\n",
            "Epoch 45/200\n",
            "69/69 [==============================] - 8s 110ms/step - loss: 0.1270 - accuracy: 0.9745 - val_loss: 0.0068 - val_accuracy: 0.9963 - lr: 1.0000e-21\n",
            "Epoch 46/200\n",
            "69/69 [==============================] - ETA: 0s - loss: 0.0865 - accuracy: 0.9809\n",
            "Epoch 46: ReduceLROnPlateau reducing learning rate to 1.0000000692397185e-22.\n",
            "69/69 [==============================] - 7s 107ms/step - loss: 0.0865 - accuracy: 0.9809 - val_loss: 0.0068 - val_accuracy: 0.9963 - lr: 1.0000e-21\n",
            "Epoch 47/200\n",
            "69/69 [==============================] - 8s 122ms/step - loss: 0.1363 - accuracy: 0.9722 - val_loss: 0.0069 - val_accuracy: 0.9963 - lr: 1.0000e-22\n",
            "Epoch 48/200\n",
            "69/69 [==============================] - ETA: 0s - loss: 0.1221 - accuracy: 0.9731\n",
            "Epoch 48: ReduceLROnPlateau reducing learning rate to 1.0000000944832675e-23.\n",
            "69/69 [==============================] - 8s 108ms/step - loss: 0.1221 - accuracy: 0.9731 - val_loss: 0.0069 - val_accuracy: 0.9982 - lr: 1.0000e-22\n",
            "Epoch 49/200\n",
            "69/69 [==============================] - 8s 118ms/step - loss: 0.1531 - accuracy: 0.9686 - val_loss: 0.0070 - val_accuracy: 0.9982 - lr: 1.0000e-23\n",
            "Epoch 50/200\n",
            "69/69 [==============================] - ETA: 0s - loss: 0.1453 - accuracy: 0.9731\n",
            "Epoch 50: ReduceLROnPlateau reducing learning rate to 1.0000000787060494e-24.\n",
            "69/69 [==============================] - 8s 121ms/step - loss: 0.1453 - accuracy: 0.9731 - val_loss: 0.0070 - val_accuracy: 0.9982 - lr: 1.0000e-23\n",
            "Epoch 51/200\n",
            "69/69 [==============================] - 7s 105ms/step - loss: 0.1211 - accuracy: 0.9731 - val_loss: 0.0071 - val_accuracy: 0.9982 - lr: 1.0000e-24\n",
            "Epoch 52/200\n",
            "69/69 [==============================] - ETA: 0s - loss: 0.0807 - accuracy: 0.9809\n",
            "Epoch 52: ReduceLROnPlateau reducing learning rate to 1.0000001181490946e-25.\n",
            "69/69 [==============================] - 7s 106ms/step - loss: 0.0807 - accuracy: 0.9809 - val_loss: 0.0071 - val_accuracy: 0.9982 - lr: 1.0000e-24\n",
            "Epoch 53/200\n",
            "69/69 [==============================] - 8s 120ms/step - loss: 0.1181 - accuracy: 0.9740 - val_loss: 0.0072 - val_accuracy: 0.9982 - lr: 1.0000e-25\n",
            "Epoch 54/200\n",
            "69/69 [==============================] - ETA: 0s - loss: 0.1259 - accuracy: 0.9727\n",
            "Epoch 54: ReduceLROnPlateau reducing learning rate to 1.0000001428009978e-26.\n",
            "69/69 [==============================] - 8s 113ms/step - loss: 0.1259 - accuracy: 0.9727 - val_loss: 0.0072 - val_accuracy: 0.9982 - lr: 1.0000e-25\n",
            "Epoch 55/200\n",
            "69/69 [==============================] - 8s 117ms/step - loss: 0.0998 - accuracy: 0.9786 - val_loss: 0.0073 - val_accuracy: 0.9982 - lr: 1.0000e-26\n",
            "Epoch 56/200\n",
            "69/69 [==============================] - ETA: 0s - loss: 0.1087 - accuracy: 0.9736\n",
            "Epoch 56: ReduceLROnPlateau reducing learning rate to 1.000000142800998e-27.\n",
            "69/69 [==============================] - 9s 124ms/step - loss: 0.1087 - accuracy: 0.9736 - val_loss: 0.0073 - val_accuracy: 0.9982 - lr: 1.0000e-26\n",
            "Epoch 57/200\n",
            "69/69 [==============================] - 8s 111ms/step - loss: 0.1111 - accuracy: 0.9736 - val_loss: 0.0073 - val_accuracy: 0.9982 - lr: 1.0000e-27\n",
            "Epoch 58/200\n",
            "69/69 [==============================] - ETA: 0s - loss: 0.0851 - accuracy: 0.9786\n",
            "Epoch 58: ReduceLROnPlateau reducing learning rate to 1.0000001235416984e-28.\n",
            "69/69 [==============================] - 8s 118ms/step - loss: 0.0851 - accuracy: 0.9786 - val_loss: 0.0073 - val_accuracy: 0.9982 - lr: 1.0000e-27\n",
            "Epoch 59/200\n",
            "69/69 [==============================] - 8s 121ms/step - loss: 0.1039 - accuracy: 0.9768 - val_loss: 0.0074 - val_accuracy: 0.9982 - lr: 1.0000e-28\n",
            "Epoch 60/200\n",
            "69/69 [==============================] - ETA: 0s - loss: 0.1002 - accuracy: 0.9772\n",
            "Epoch 60: ReduceLROnPlateau reducing learning rate to 1.0000001235416985e-29.\n",
            "69/69 [==============================] - 7s 108ms/step - loss: 0.1002 - accuracy: 0.9772 - val_loss: 0.0074 - val_accuracy: 0.9982 - lr: 1.0000e-28\n",
            "Epoch 61/200\n",
            "69/69 [==============================] - 7s 107ms/step - loss: 0.0922 - accuracy: 0.9772 - val_loss: 0.0074 - val_accuracy: 0.9982 - lr: 1.0000e-29\n",
            "Epoch 62/200\n",
            "69/69 [==============================] - ETA: 0s - loss: 0.1167 - accuracy: 0.9713\n",
            "Epoch 62: ReduceLROnPlateau reducing learning rate to 1.0000001536343539e-30.\n",
            "69/69 [==============================] - 8s 115ms/step - loss: 0.1167 - accuracy: 0.9713 - val_loss: 0.0075 - val_accuracy: 0.9982 - lr: 1.0000e-29\n",
            "Epoch 63/200\n",
            "69/69 [==============================] - 8s 122ms/step - loss: 0.1213 - accuracy: 0.9722 - val_loss: 0.0075 - val_accuracy: 0.9982 - lr: 1.0000e-30\n",
            "Epoch 64/200\n",
            "69/69 [==============================] - ETA: 0s - loss: 0.1020 - accuracy: 0.9790\n",
            "Epoch 64: ReduceLROnPlateau reducing learning rate to 1.000000191250173e-31.\n",
            "69/69 [==============================] - 7s 107ms/step - loss: 0.1020 - accuracy: 0.9790 - val_loss: 0.0075 - val_accuracy: 0.9982 - lr: 1.0000e-30\n",
            "Epoch 65/200\n",
            "69/69 [==============================] - 8s 122ms/step - loss: 0.0917 - accuracy: 0.9772 - val_loss: 0.0075 - val_accuracy: 0.9982 - lr: 1.0000e-31\n",
            "Epoch 66/200\n",
            "69/69 [==============================] - ETA: 0s - loss: 0.1048 - accuracy: 0.9763\n",
            "Epoch 66: ReduceLROnPlateau reducing learning rate to 1.0000002147600601e-32.\n",
            "69/69 [==============================] - 8s 120ms/step - loss: 0.1048 - accuracy: 0.9763 - val_loss: 0.0075 - val_accuracy: 0.9982 - lr: 1.0000e-31\n",
            "Epoch 67/200\n",
            "69/69 [==============================] - 7s 105ms/step - loss: 0.1052 - accuracy: 0.9736 - val_loss: 0.0075 - val_accuracy: 0.9982 - lr: 1.0000e-32\n",
            "Epoch 68/200\n",
            "69/69 [==============================] - 8s 121ms/step - loss: 0.0711 - accuracy: 0.9822 - val_loss: 0.0075 - val_accuracy: 0.9982 - lr: 1.0000e-32\n",
            "Epoch 69/200\n",
            "69/69 [==============================] - 8s 120ms/step - loss: 0.1120 - accuracy: 0.9736 - val_loss: 0.0075 - val_accuracy: 0.9982 - lr: 1.0000e-32\n",
            "Epoch 70/200\n",
            "69/69 [==============================] - ETA: 0s - loss: 0.1118 - accuracy: 0.9749\n",
            "Epoch 70: ReduceLROnPlateau reducing learning rate to 1.0000002441474188e-33.\n",
            "69/69 [==============================] - 8s 113ms/step - loss: 0.1118 - accuracy: 0.9749 - val_loss: 0.0076 - val_accuracy: 0.9982 - lr: 1.0000e-32\n",
            "Epoch 71/200\n",
            "69/69 [==============================] - 8s 109ms/step - loss: 0.1041 - accuracy: 0.9777 - val_loss: 0.0076 - val_accuracy: 0.9982 - lr: 1.0000e-33\n",
            "Epoch 72/200\n",
            "69/69 [==============================] - ETA: 0s - loss: 0.0849 - accuracy: 0.9781\n",
            "Epoch 72: ReduceLROnPlateau reducing learning rate to 1.0000002074132203e-34.\n",
            "69/69 [==============================] - 8s 122ms/step - loss: 0.0849 - accuracy: 0.9781 - val_loss: 0.0076 - val_accuracy: 0.9982 - lr: 1.0000e-33\n",
            "Epoch 73/200\n",
            "69/69 [==============================] - 7s 106ms/step - loss: 0.1172 - accuracy: 0.9754 - val_loss: 0.0076 - val_accuracy: 0.9982 - lr: 1.0000e-34\n",
            "Epoch 74/200\n",
            "69/69 [==============================] - ETA: 0s - loss: 0.1174 - accuracy: 0.9736\n",
            "Epoch 74: ReduceLROnPlateau reducing learning rate to 1.0000001614954722e-35.\n",
            "69/69 [==============================] - 8s 122ms/step - loss: 0.1174 - accuracy: 0.9736 - val_loss: 0.0076 - val_accuracy: 0.9982 - lr: 1.0000e-34\n",
            "Epoch 75/200\n",
            "69/69 [==============================] - 8s 116ms/step - loss: 0.1079 - accuracy: 0.9749 - val_loss: 0.0076 - val_accuracy: 0.9982 - lr: 1.0000e-35\n",
            "Epoch 76/200\n",
            "69/69 [==============================] - ETA: 0s - loss: 0.1049 - accuracy: 0.9795\n",
            "Epoch 76: ReduceLROnPlateau reducing learning rate to 1.0000001614954723e-36.\n",
            "69/69 [==============================] - 8s 111ms/step - loss: 0.1049 - accuracy: 0.9795 - val_loss: 0.0076 - val_accuracy: 0.9982 - lr: 1.0000e-35\n",
            "Epoch 77/200\n",
            "69/69 [==============================] - 8s 121ms/step - loss: 0.0921 - accuracy: 0.9790 - val_loss: 0.0076 - val_accuracy: 0.9982 - lr: 1.0000e-36\n",
            "Epoch 78/200\n",
            "69/69 [==============================] - ETA: 0s - loss: 0.1019 - accuracy: 0.9768\n",
            "Epoch 78: ReduceLROnPlateau reducing learning rate to 1.0000001256222317e-37.\n",
            "69/69 [==============================] - 7s 108ms/step - loss: 0.1019 - accuracy: 0.9768 - val_loss: 0.0076 - val_accuracy: 0.9982 - lr: 1.0000e-36\n",
            "Epoch 79/200\n",
            "69/69 [==============================] - 8s 113ms/step - loss: 0.1112 - accuracy: 0.9731 - val_loss: 0.0077 - val_accuracy: 0.9982 - lr: 1.0000e-37\n",
            "Epoch 80/200\n",
            "69/69 [==============================] - ETA: 0s - loss: 0.1075 - accuracy: 0.9745\n",
            "Epoch 80: ReduceLROnPlateau reducing learning rate to 1.0000001032014561e-38.\n",
            "69/69 [==============================] - 8s 122ms/step - loss: 0.1075 - accuracy: 0.9745 - val_loss: 0.0077 - val_accuracy: 0.9982 - lr: 1.0000e-37\n",
            "Epoch 81/200\n",
            "69/69 [==============================] - 8s 112ms/step - loss: 0.1078 - accuracy: 0.9731 - val_loss: 0.0077 - val_accuracy: 0.9982 - lr: 1.0000e-38\n",
            "Epoch 82/200\n",
            "69/69 [==============================] - ETA: 0s - loss: 0.1283 - accuracy: 0.9722\n",
            "Epoch 82: ReduceLROnPlateau reducing learning rate to 1.0000000751754869e-39.\n",
            "69/69 [==============================] - 8s 117ms/step - loss: 0.1283 - accuracy: 0.9722 - val_loss: 0.0077 - val_accuracy: 0.9982 - lr: 1.0000e-38\n",
            "Epoch 83/200\n",
            "69/69 [==============================] - 8s 119ms/step - loss: 0.1183 - accuracy: 0.9713 - val_loss: 0.0077 - val_accuracy: 0.9982 - lr: 1.0000e-39\n",
            "Epoch 84/200\n",
            "69/69 [==============================] - ETA: 0s - loss: 0.1084 - accuracy: 0.9749\n",
            "Epoch 84: ReduceLROnPlateau reducing learning rate to 1.0000002153053334e-40.\n",
            "69/69 [==============================] - 7s 107ms/step - loss: 0.1084 - accuracy: 0.9749 - val_loss: 0.0077 - val_accuracy: 0.9982 - lr: 1.0000e-39\n",
            "Epoch 85/200\n",
            "69/69 [==============================] - 9s 123ms/step - loss: 0.0958 - accuracy: 0.9763 - val_loss: 0.0077 - val_accuracy: 0.9982 - lr: 9.9999e-41\n",
            "Epoch 86/200\n",
            "69/69 [==============================] - ETA: 0s - loss: 0.0959 - accuracy: 0.9795\n",
            "Epoch 86: ReduceLROnPlateau reducing learning rate to 9.99994610111476e-42.\n",
            "69/69 [==============================] - 7s 108ms/step - loss: 0.0959 - accuracy: 0.9795 - val_loss: 0.0077 - val_accuracy: 0.9982 - lr: 9.9999e-41\n",
            "Epoch 87/200\n",
            "69/69 [==============================] - 7s 106ms/step - loss: 0.1112 - accuracy: 0.9758 - val_loss: 0.0077 - val_accuracy: 0.9982 - lr: 9.9997e-42\n",
            "Epoch 88/200\n",
            "69/69 [==============================] - ETA: 0s - loss: 0.0855 - accuracy: 0.9772\n",
            "Epoch 88: ReduceLROnPlateau reducing learning rate to 9.999665841421895e-43.\n",
            "69/69 [==============================] - 8s 121ms/step - loss: 0.0855 - accuracy: 0.9772 - val_loss: 0.0077 - val_accuracy: 0.9982 - lr: 9.9997e-42\n",
            "Epoch 89/200\n",
            "69/69 [==============================] - 8s 111ms/step - loss: 0.1170 - accuracy: 0.9813 - val_loss: 0.0077 - val_accuracy: 0.9982 - lr: 1.0005e-42\n",
            "Epoch 90/200\n",
            "69/69 [==============================] - ETA: 0s - loss: 0.0929 - accuracy: 0.9772\n",
            "Epoch 90: ReduceLROnPlateau reducing learning rate to 1.0005271035279195e-43.\n",
            "69/69 [==============================] - 8s 111ms/step - loss: 0.0929 - accuracy: 0.9772 - val_loss: 0.0077 - val_accuracy: 0.9982 - lr: 1.0005e-42\n",
            "Epoch 91/200\n",
            "69/69 [==============================] - 8s 123ms/step - loss: 0.1218 - accuracy: 0.9681 - val_loss: 0.0077 - val_accuracy: 0.9982 - lr: 9.9492e-44\n",
            "Epoch 92/200\n",
            "69/69 [==============================] - ETA: 0s - loss: 0.0928 - accuracy: 0.9758\n",
            "Epoch 92: ReduceLROnPlateau reducing learning rate to 9.949219096706202e-45.\n",
            "69/69 [==============================] - 8s 110ms/step - loss: 0.0928 - accuracy: 0.9758 - val_loss: 0.0077 - val_accuracy: 0.9982 - lr: 9.9492e-44\n",
            "Epoch 93/200\n",
            "69/69 [==============================] - 7s 107ms/step - loss: 0.1030 - accuracy: 0.9786 - val_loss: 0.0077 - val_accuracy: 0.9982 - lr: 9.8091e-45\n",
            "Epoch 94/200\n",
            "69/69 [==============================] - ETA: 0s - loss: 0.1129 - accuracy: 0.9768\n",
            "Epoch 94: ReduceLROnPlateau reducing learning rate to 9.80908925027372e-46.\n",
            "69/69 [==============================] - 8s 122ms/step - loss: 0.1129 - accuracy: 0.9768 - val_loss: 0.0077 - val_accuracy: 0.9982 - lr: 9.8091e-45\n",
            "Epoch 95/200\n",
            "69/69 [==============================] - 8s 111ms/step - loss: 0.0978 - accuracy: 0.9768 - val_loss: 0.0078 - val_accuracy: 0.9982 - lr: 1.4013e-45\n",
            "Epoch 96/200\n",
            "69/69 [==============================] - ETA: 0s - loss: 0.0988 - accuracy: 0.9749\n",
            "Epoch 96: ReduceLROnPlateau reducing learning rate to 1.4012984643248171e-46.\n",
            "69/69 [==============================] - 8s 119ms/step - loss: 0.0988 - accuracy: 0.9749 - val_loss: 0.0077 - val_accuracy: 0.9982 - lr: 1.4013e-45\n",
            "Epoch 97/200\n",
            "69/69 [==============================] - 8s 116ms/step - loss: 0.1160 - accuracy: 0.9749 - val_loss: 0.0077 - val_accuracy: 0.9982 - lr: 0.0000e+00\n",
            "Epoch 98/200\n",
            "69/69 [==============================] - 8s 109ms/step - loss: 0.0864 - accuracy: 0.9799 - val_loss: 0.0077 - val_accuracy: 0.9982 - lr: 0.0000e+00\n",
            "Epoch 99/200\n",
            "69/69 [==============================] - 8s 121ms/step - loss: 0.0941 - accuracy: 0.9777 - val_loss: 0.0077 - val_accuracy: 0.9982 - lr: 0.0000e+00\n",
            "Epoch 100/200\n",
            "69/69 [==============================] - 7s 104ms/step - loss: 0.1143 - accuracy: 0.9731 - val_loss: 0.0077 - val_accuracy: 0.9982 - lr: 0.0000e+00\n",
            "Epoch 101/200\n",
            "69/69 [==============================] - 8s 120ms/step - loss: 0.1117 - accuracy: 0.9777 - val_loss: 0.0077 - val_accuracy: 0.9982 - lr: 0.0000e+00\n",
            "Epoch 102/200\n",
            "69/69 [==============================] - 8s 113ms/step - loss: 0.1178 - accuracy: 0.9717 - val_loss: 0.0078 - val_accuracy: 0.9982 - lr: 0.0000e+00\n",
            "Epoch 103/200\n",
            "69/69 [==============================] - 7s 106ms/step - loss: 0.1011 - accuracy: 0.9772 - val_loss: 0.0078 - val_accuracy: 0.9982 - lr: 0.0000e+00\n",
            "Epoch 104/200\n",
            "69/69 [==============================] - 8s 114ms/step - loss: 0.1215 - accuracy: 0.9736 - val_loss: 0.0077 - val_accuracy: 0.9982 - lr: 0.0000e+00\n",
            "Epoch 105/200\n",
            "69/69 [==============================] - 8s 122ms/step - loss: 0.0891 - accuracy: 0.9772 - val_loss: 0.0077 - val_accuracy: 0.9982 - lr: 0.0000e+00\n",
            "Epoch 106/200\n",
            "69/69 [==============================] - 8s 119ms/step - loss: 0.0963 - accuracy: 0.9790 - val_loss: 0.0077 - val_accuracy: 0.9982 - lr: 0.0000e+00\n",
            "Epoch 107/200\n",
            "69/69 [==============================] - 8s 109ms/step - loss: 0.1273 - accuracy: 0.9749 - val_loss: 0.0077 - val_accuracy: 0.9982 - lr: 0.0000e+00\n",
            "Epoch 108/200\n",
            "69/69 [==============================] - 8s 122ms/step - loss: 0.1051 - accuracy: 0.9745 - val_loss: 0.0077 - val_accuracy: 0.9982 - lr: 0.0000e+00\n",
            "Epoch 109/200\n",
            "69/69 [==============================] - 7s 106ms/step - loss: 0.1184 - accuracy: 0.9699 - val_loss: 0.0077 - val_accuracy: 0.9982 - lr: 0.0000e+00\n",
            "Epoch 110/200\n",
            "69/69 [==============================] - 9s 124ms/step - loss: 0.1056 - accuracy: 0.9717 - val_loss: 0.0077 - val_accuracy: 0.9982 - lr: 0.0000e+00\n",
            "Epoch 111/200\n",
            "69/69 [==============================] - 7s 108ms/step - loss: 0.1113 - accuracy: 0.9758 - val_loss: 0.0077 - val_accuracy: 0.9982 - lr: 0.0000e+00\n",
            "Epoch 112/200\n",
            "69/69 [==============================] - 9s 125ms/step - loss: 0.0989 - accuracy: 0.9758 - val_loss: 0.0077 - val_accuracy: 0.9982 - lr: 0.0000e+00\n",
            "Epoch 113/200\n",
            "69/69 [==============================] - 8s 120ms/step - loss: 0.0798 - accuracy: 0.9863 - val_loss: 0.0077 - val_accuracy: 0.9982 - lr: 0.0000e+00\n",
            "Epoch 114/200\n",
            "69/69 [==============================] - 7s 106ms/step - loss: 0.1072 - accuracy: 0.9736 - val_loss: 0.0077 - val_accuracy: 0.9982 - lr: 0.0000e+00\n",
            "Epoch 115/200\n",
            "69/69 [==============================] - 8s 109ms/step - loss: 0.1341 - accuracy: 0.9663 - val_loss: 0.0077 - val_accuracy: 0.9982 - lr: 0.0000e+00\n",
            "Epoch 116/200\n",
            "69/69 [==============================] - 8s 122ms/step - loss: 0.1253 - accuracy: 0.9713 - val_loss: 0.0077 - val_accuracy: 0.9982 - lr: 0.0000e+00\n",
            "Epoch 117/200\n",
            "69/69 [==============================] - 8s 111ms/step - loss: 0.1192 - accuracy: 0.9713 - val_loss: 0.0077 - val_accuracy: 0.9982 - lr: 0.0000e+00\n",
            "Epoch 118/200\n",
            "69/69 [==============================] - 7s 105ms/step - loss: 0.0863 - accuracy: 0.9749 - val_loss: 0.0077 - val_accuracy: 0.9982 - lr: 0.0000e+00\n",
            "Epoch 119/200\n",
            "69/69 [==============================] - 8s 116ms/step - loss: 0.0879 - accuracy: 0.9795 - val_loss: 0.0077 - val_accuracy: 0.9982 - lr: 0.0000e+00\n",
            "Epoch 120/200\n",
            "69/69 [==============================] - 8s 123ms/step - loss: 0.1227 - accuracy: 0.9717 - val_loss: 0.0077 - val_accuracy: 0.9982 - lr: 0.0000e+00\n",
            "Epoch 121/200\n",
            "69/69 [==============================] - 7s 106ms/step - loss: 0.1049 - accuracy: 0.9749 - val_loss: 0.0077 - val_accuracy: 0.9982 - lr: 0.0000e+00\n",
            "Epoch 122/200\n",
            "69/69 [==============================] - 8s 122ms/step - loss: 0.1197 - accuracy: 0.9686 - val_loss: 0.0077 - val_accuracy: 0.9982 - lr: 0.0000e+00\n",
            "Epoch 123/200\n",
            "69/69 [==============================] - 8s 110ms/step - loss: 0.0962 - accuracy: 0.9795 - val_loss: 0.0077 - val_accuracy: 0.9982 - lr: 0.0000e+00\n",
            "Epoch 124/200\n",
            "69/69 [==============================] - 7s 107ms/step - loss: 0.0955 - accuracy: 0.9777 - val_loss: 0.0077 - val_accuracy: 0.9982 - lr: 0.0000e+00\n",
            "Epoch 125/200\n",
            "69/69 [==============================] - 8s 109ms/step - loss: 0.1048 - accuracy: 0.9740 - val_loss: 0.0077 - val_accuracy: 0.9982 - lr: 0.0000e+00\n",
            "Epoch 126/200\n",
            "69/69 [==============================] - 9s 123ms/step - loss: 0.0983 - accuracy: 0.9754 - val_loss: 0.0077 - val_accuracy: 0.9982 - lr: 0.0000e+00\n",
            "Epoch 127/200\n",
            "69/69 [==============================] - 7s 106ms/step - loss: 0.1002 - accuracy: 0.9736 - val_loss: 0.0077 - val_accuracy: 0.9982 - lr: 0.0000e+00\n",
            "Epoch 128/200\n",
            "69/69 [==============================] - 8s 121ms/step - loss: 0.0959 - accuracy: 0.9795 - val_loss: 0.0077 - val_accuracy: 0.9982 - lr: 0.0000e+00\n",
            "Epoch 129/200\n",
            "69/69 [==============================] - 7s 108ms/step - loss: 0.0873 - accuracy: 0.9777 - val_loss: 0.0077 - val_accuracy: 0.9982 - lr: 0.0000e+00\n",
            "Epoch 130/200\n",
            "69/69 [==============================] - 7s 106ms/step - loss: 0.1064 - accuracy: 0.9754 - val_loss: 0.0077 - val_accuracy: 0.9982 - lr: 0.0000e+00\n",
            "Epoch 131/200\n",
            "69/69 [==============================] - 8s 122ms/step - loss: 0.0937 - accuracy: 0.9758 - val_loss: 0.0077 - val_accuracy: 0.9982 - lr: 0.0000e+00\n",
            "Epoch 132/200\n",
            "69/69 [==============================] - 8s 118ms/step - loss: 0.1284 - accuracy: 0.9754 - val_loss: 0.0077 - val_accuracy: 0.9982 - lr: 0.0000e+00\n",
            "Epoch 133/200\n",
            "69/69 [==============================] - 8s 108ms/step - loss: 0.0919 - accuracy: 0.9799 - val_loss: 0.0077 - val_accuracy: 0.9982 - lr: 0.0000e+00\n",
            "Epoch 134/200\n",
            "69/69 [==============================] - 9s 125ms/step - loss: 0.1099 - accuracy: 0.9740 - val_loss: 0.0077 - val_accuracy: 0.9982 - lr: 0.0000e+00\n",
            "Epoch 135/200\n",
            "69/69 [==============================] - 8s 119ms/step - loss: 0.0920 - accuracy: 0.9795 - val_loss: 0.0077 - val_accuracy: 0.9982 - lr: 0.0000e+00\n",
            "Epoch 136/200\n",
            "69/69 [==============================] - 7s 108ms/step - loss: 0.0842 - accuracy: 0.9799 - val_loss: 0.0077 - val_accuracy: 0.9982 - lr: 0.0000e+00\n",
            "Epoch 137/200\n",
            "69/69 [==============================] - 8s 110ms/step - loss: 0.0901 - accuracy: 0.9745 - val_loss: 0.0077 - val_accuracy: 0.9982 - lr: 0.0000e+00\n",
            "Epoch 138/200\n",
            "69/69 [==============================] - 9s 127ms/step - loss: 0.1132 - accuracy: 0.9745 - val_loss: 0.0077 - val_accuracy: 0.9982 - lr: 0.0000e+00\n",
            "Epoch 139/200\n",
            "69/69 [==============================] - 7s 108ms/step - loss: 0.1176 - accuracy: 0.9731 - val_loss: 0.0077 - val_accuracy: 0.9982 - lr: 0.0000e+00\n",
            "Epoch 140/200\n",
            "69/69 [==============================] - 9s 126ms/step - loss: 0.1043 - accuracy: 0.9768 - val_loss: 0.0077 - val_accuracy: 0.9982 - lr: 0.0000e+00\n",
            "Epoch 141/200\n",
            "69/69 [==============================] - 8s 118ms/step - loss: 0.1111 - accuracy: 0.9731 - val_loss: 0.0077 - val_accuracy: 0.9982 - lr: 0.0000e+00\n",
            "Epoch 142/200\n",
            "69/69 [==============================] - 8s 115ms/step - loss: 0.1152 - accuracy: 0.9740 - val_loss: 0.0077 - val_accuracy: 0.9982 - lr: 0.0000e+00\n",
            "Epoch 143/200\n",
            "69/69 [==============================] - 9s 127ms/step - loss: 0.1132 - accuracy: 0.9758 - val_loss: 0.0077 - val_accuracy: 0.9982 - lr: 0.0000e+00\n",
            "Epoch 144/200\n",
            "69/69 [==============================] - 8s 114ms/step - loss: 0.1085 - accuracy: 0.9731 - val_loss: 0.0077 - val_accuracy: 0.9982 - lr: 0.0000e+00\n",
            "Epoch 145/200\n",
            "69/69 [==============================] - 8s 109ms/step - loss: 0.1342 - accuracy: 0.9708 - val_loss: 0.0077 - val_accuracy: 0.9982 - lr: 0.0000e+00\n",
            "Epoch 146/200\n",
            "69/69 [==============================] - 8s 116ms/step - loss: 0.1093 - accuracy: 0.9790 - val_loss: 0.0077 - val_accuracy: 0.9982 - lr: 0.0000e+00\n",
            "Epoch 147/200\n",
            "69/69 [==============================] - 9s 125ms/step - loss: 0.1268 - accuracy: 0.9717 - val_loss: 0.0077 - val_accuracy: 0.9982 - lr: 0.0000e+00\n",
            "Epoch 148/200\n",
            "69/69 [==============================] - 7s 107ms/step - loss: 0.1208 - accuracy: 0.9749 - val_loss: 0.0077 - val_accuracy: 0.9982 - lr: 0.0000e+00\n",
            "Epoch 149/200\n",
            "69/69 [==============================] - 8s 123ms/step - loss: 0.0945 - accuracy: 0.9777 - val_loss: 0.0077 - val_accuracy: 0.9982 - lr: 0.0000e+00\n",
            "Epoch 150/200\n",
            "69/69 [==============================] - 8s 113ms/step - loss: 0.1088 - accuracy: 0.9727 - val_loss: 0.0077 - val_accuracy: 0.9982 - lr: 0.0000e+00\n",
            "Epoch 151/200\n",
            "69/69 [==============================] - 8s 112ms/step - loss: 0.1105 - accuracy: 0.9768 - val_loss: 0.0077 - val_accuracy: 0.9982 - lr: 0.0000e+00\n",
            "Epoch 152/200\n",
            "69/69 [==============================] - 8s 116ms/step - loss: 0.0877 - accuracy: 0.9790 - val_loss: 0.0077 - val_accuracy: 0.9982 - lr: 0.0000e+00\n",
            "Epoch 153/200\n",
            "69/69 [==============================] - 8s 122ms/step - loss: 0.1023 - accuracy: 0.9790 - val_loss: 0.0077 - val_accuracy: 0.9982 - lr: 0.0000e+00\n",
            "Epoch 154/200\n",
            "69/69 [==============================] - 8s 109ms/step - loss: 0.1039 - accuracy: 0.9736 - val_loss: 0.0077 - val_accuracy: 0.9982 - lr: 0.0000e+00\n",
            "Epoch 155/200\n",
            "69/69 [==============================] - 9s 125ms/step - loss: 0.0790 - accuracy: 0.9822 - val_loss: 0.0077 - val_accuracy: 0.9982 - lr: 0.0000e+00\n",
            "Epoch 156/200\n",
            "69/69 [==============================] - 8s 112ms/step - loss: 0.0925 - accuracy: 0.9772 - val_loss: 0.0077 - val_accuracy: 0.9982 - lr: 0.0000e+00\n",
            "Epoch 157/200\n",
            "69/69 [==============================] - 8s 113ms/step - loss: 0.1266 - accuracy: 0.9686 - val_loss: 0.0077 - val_accuracy: 0.9982 - lr: 0.0000e+00\n",
            "Epoch 158/200\n",
            "69/69 [==============================] - 8s 120ms/step - loss: 0.1050 - accuracy: 0.9772 - val_loss: 0.0077 - val_accuracy: 0.9982 - lr: 0.0000e+00\n",
            "Epoch 159/200\n",
            "69/69 [==============================] - 7s 108ms/step - loss: 0.1117 - accuracy: 0.9722 - val_loss: 0.0077 - val_accuracy: 0.9982 - lr: 0.0000e+00\n",
            "Epoch 160/200\n",
            "69/69 [==============================] - 8s 119ms/step - loss: 0.0903 - accuracy: 0.9809 - val_loss: 0.0077 - val_accuracy: 0.9982 - lr: 0.0000e+00\n",
            "Epoch 161/200\n",
            "69/69 [==============================] - 8s 122ms/step - loss: 0.0843 - accuracy: 0.9781 - val_loss: 0.0077 - val_accuracy: 0.9982 - lr: 0.0000e+00\n",
            "Epoch 162/200\n",
            "69/69 [==============================] - 8s 109ms/step - loss: 0.1021 - accuracy: 0.9768 - val_loss: 0.0077 - val_accuracy: 0.9982 - lr: 0.0000e+00\n",
            "Epoch 163/200\n",
            "69/69 [==============================] - 9s 126ms/step - loss: 0.1038 - accuracy: 0.9758 - val_loss: 0.0077 - val_accuracy: 0.9982 - lr: 0.0000e+00\n",
            "Epoch 164/200\n",
            "69/69 [==============================] - 8s 113ms/step - loss: 0.1195 - accuracy: 0.9740 - val_loss: 0.0077 - val_accuracy: 0.9982 - lr: 0.0000e+00\n",
            "Epoch 165/200\n",
            "69/69 [==============================] - 8s 120ms/step - loss: 0.0903 - accuracy: 0.9768 - val_loss: 0.0077 - val_accuracy: 0.9982 - lr: 0.0000e+00\n",
            "Epoch 166/200\n",
            "69/69 [==============================] - 9s 124ms/step - loss: 0.0901 - accuracy: 0.9799 - val_loss: 0.0077 - val_accuracy: 0.9982 - lr: 0.0000e+00\n",
            "Epoch 167/200\n",
            "69/69 [==============================] - 7s 108ms/step - loss: 0.1007 - accuracy: 0.9763 - val_loss: 0.0077 - val_accuracy: 0.9982 - lr: 0.0000e+00\n",
            "Epoch 168/200\n",
            "69/69 [==============================] - 9s 125ms/step - loss: 0.1071 - accuracy: 0.9763 - val_loss: 0.0078 - val_accuracy: 0.9982 - lr: 0.0000e+00\n",
            "Epoch 169/200\n",
            "69/69 [==============================] - 8s 111ms/step - loss: 0.0797 - accuracy: 0.9818 - val_loss: 0.0078 - val_accuracy: 0.9982 - lr: 0.0000e+00\n",
            "Epoch 170/200\n",
            "69/69 [==============================] - 8s 115ms/step - loss: 0.1072 - accuracy: 0.9736 - val_loss: 0.0077 - val_accuracy: 0.9982 - lr: 0.0000e+00\n",
            "Epoch 171/200\n",
            "69/69 [==============================] - 9s 125ms/step - loss: 0.0845 - accuracy: 0.9790 - val_loss: 0.0078 - val_accuracy: 0.9982 - lr: 0.0000e+00\n",
            "Epoch 172/200\n",
            "69/69 [==============================] - 8s 111ms/step - loss: 0.0915 - accuracy: 0.9786 - val_loss: 0.0078 - val_accuracy: 0.9982 - lr: 0.0000e+00\n",
            "Epoch 173/200\n",
            "69/69 [==============================] - 9s 128ms/step - loss: 0.0936 - accuracy: 0.9777 - val_loss: 0.0077 - val_accuracy: 0.9982 - lr: 0.0000e+00\n",
            "Epoch 174/200\n",
            "69/69 [==============================] - 8s 114ms/step - loss: 0.1053 - accuracy: 0.9727 - val_loss: 0.0078 - val_accuracy: 0.9982 - lr: 0.0000e+00\n",
            "Epoch 175/200\n",
            "69/69 [==============================] - 8s 109ms/step - loss: 0.0997 - accuracy: 0.9740 - val_loss: 0.0077 - val_accuracy: 0.9982 - lr: 0.0000e+00\n",
            "Epoch 176/200\n",
            "69/69 [==============================] - 9s 127ms/step - loss: 0.0917 - accuracy: 0.9772 - val_loss: 0.0078 - val_accuracy: 0.9982 - lr: 0.0000e+00\n",
            "Epoch 177/200\n",
            "69/69 [==============================] - 8s 115ms/step - loss: 0.1143 - accuracy: 0.9749 - val_loss: 0.0077 - val_accuracy: 0.9982 - lr: 0.0000e+00\n",
            "Epoch 178/200\n",
            "69/69 [==============================] - 8s 110ms/step - loss: 0.0999 - accuracy: 0.9799 - val_loss: 0.0077 - val_accuracy: 0.9982 - lr: 0.0000e+00\n",
            "Epoch 179/200\n",
            "69/69 [==============================] - 9s 128ms/step - loss: 0.1001 - accuracy: 0.9749 - val_loss: 0.0077 - val_accuracy: 0.9982 - lr: 0.0000e+00\n",
            "Epoch 180/200\n",
            "69/69 [==============================] - 8s 118ms/step - loss: 0.1063 - accuracy: 0.9745 - val_loss: 0.0077 - val_accuracy: 0.9982 - lr: 0.0000e+00\n",
            "Epoch 181/200\n",
            "69/69 [==============================] - 8s 115ms/step - loss: 0.1036 - accuracy: 0.9781 - val_loss: 0.0077 - val_accuracy: 0.9982 - lr: 0.0000e+00\n",
            "Epoch 182/200\n",
            "69/69 [==============================] - 9s 128ms/step - loss: 0.1049 - accuracy: 0.9758 - val_loss: 0.0077 - val_accuracy: 0.9982 - lr: 0.0000e+00\n",
            "Epoch 183/200\n",
            "69/69 [==============================] - 8s 116ms/step - loss: 0.0948 - accuracy: 0.9781 - val_loss: 0.0077 - val_accuracy: 0.9982 - lr: 0.0000e+00\n",
            "Epoch 184/200\n",
            "69/69 [==============================] - 8s 110ms/step - loss: 0.1143 - accuracy: 0.9713 - val_loss: 0.0077 - val_accuracy: 0.9982 - lr: 0.0000e+00\n",
            "Epoch 185/200\n",
            "69/69 [==============================] - 9s 125ms/step - loss: 0.1117 - accuracy: 0.9749 - val_loss: 0.0077 - val_accuracy: 0.9982 - lr: 0.0000e+00\n",
            "Epoch 186/200\n",
            "69/69 [==============================] - 8s 122ms/step - loss: 0.0953 - accuracy: 0.9777 - val_loss: 0.0077 - val_accuracy: 0.9982 - lr: 0.0000e+00\n",
            "Epoch 187/200\n",
            "69/69 [==============================] - 8s 112ms/step - loss: 0.1112 - accuracy: 0.9717 - val_loss: 0.0077 - val_accuracy: 0.9982 - lr: 0.0000e+00\n",
            "Epoch 188/200\n",
            "69/69 [==============================] - 9s 125ms/step - loss: 0.0897 - accuracy: 0.9781 - val_loss: 0.0077 - val_accuracy: 0.9982 - lr: 0.0000e+00\n",
            "Epoch 189/200\n",
            "69/69 [==============================] - 8s 115ms/step - loss: 0.0893 - accuracy: 0.9763 - val_loss: 0.0077 - val_accuracy: 0.9982 - lr: 0.0000e+00\n",
            "Epoch 190/200\n",
            "69/69 [==============================] - 7s 107ms/step - loss: 0.1470 - accuracy: 0.9731 - val_loss: 0.0078 - val_accuracy: 0.9982 - lr: 0.0000e+00\n",
            "Epoch 191/200\n",
            "69/69 [==============================] - 8s 122ms/step - loss: 0.1231 - accuracy: 0.9690 - val_loss: 0.0077 - val_accuracy: 0.9982 - lr: 0.0000e+00\n",
            "Epoch 192/200\n",
            "69/69 [==============================] - 8s 118ms/step - loss: 0.1194 - accuracy: 0.9772 - val_loss: 0.0078 - val_accuracy: 0.9982 - lr: 0.0000e+00\n",
            "Epoch 193/200\n",
            "69/69 [==============================] - 8s 112ms/step - loss: 0.1117 - accuracy: 0.9722 - val_loss: 0.0077 - val_accuracy: 0.9982 - lr: 0.0000e+00\n",
            "Epoch 194/200\n",
            "69/69 [==============================] - 8s 122ms/step - loss: 0.1158 - accuracy: 0.9722 - val_loss: 0.0077 - val_accuracy: 0.9982 - lr: 0.0000e+00\n",
            "Epoch 195/200\n",
            "69/69 [==============================] - 8s 111ms/step - loss: 0.1031 - accuracy: 0.9763 - val_loss: 0.0077 - val_accuracy: 0.9982 - lr: 0.0000e+00\n",
            "Epoch 196/200\n",
            "69/69 [==============================] - 9s 124ms/step - loss: 0.0962 - accuracy: 0.9717 - val_loss: 0.0077 - val_accuracy: 0.9982 - lr: 0.0000e+00\n",
            "Epoch 197/200\n",
            "69/69 [==============================] - 9s 132ms/step - loss: 0.1110 - accuracy: 0.9754 - val_loss: 0.0077 - val_accuracy: 0.9982 - lr: 0.0000e+00\n",
            "Epoch 198/200\n",
            "69/69 [==============================] - 8s 112ms/step - loss: 0.1134 - accuracy: 0.9745 - val_loss: 0.0077 - val_accuracy: 0.9982 - lr: 0.0000e+00\n",
            "Epoch 199/200\n",
            "69/69 [==============================] - 9s 129ms/step - loss: 0.1140 - accuracy: 0.9736 - val_loss: 0.0077 - val_accuracy: 0.9982 - lr: 0.0000e+00\n",
            "Epoch 200/200\n",
            "69/69 [==============================] - 8s 117ms/step - loss: 0.1480 - accuracy: 0.9754 - val_loss: 0.0077 - val_accuracy: 0.9982 - lr: 0.0000e+00\n"
          ]
        }
      ],
      "source": [
        "History = model.fit(train_data,validation_data =valid_data,epochs = 200,batch_size =32,callbacks=[reduce_on_plateau])"
      ]
    },
    {
      "cell_type": "code",
      "source": [
        "model.save('/content/drive/MyDrive/mobile_numbers.h5')"
      ],
      "metadata": {
        "id": "snUU4dQV1F6V"
      },
      "execution_count": null,
      "outputs": []
    },
    {
      "cell_type": "code",
      "execution_count": null,
      "metadata": {
        "id": "-9zTjKDYB7-r"
      },
      "outputs": [],
      "source": []
    }
  ],
  "metadata": {
    "accelerator": "GPU",
    "colab": {
      "provenance": []
    },
    "gpuClass": "standard",
    "kernelspec": {
      "display_name": "Python 3",
      "name": "python3"
    },
    "language_info": {
      "name": "python"
    }
  },
  "nbformat": 4,
  "nbformat_minor": 0
}