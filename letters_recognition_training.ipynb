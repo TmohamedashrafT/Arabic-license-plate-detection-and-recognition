{
  "cells": [
    {
      "cell_type": "code",
      "execution_count": null,
      "metadata": {
        "id": "VmzD5NAK05Tc"
      },
      "outputs": [],
      "source": [
        "import numpy as np\n",
        "import pandas as pd\n",
        "import os\n",
        "import cv2\n",
        "from tensorflow.keras.preprocessing.image import ImageDataGenerator\n",
        "from sklearn.model_selection import train_test_split\n",
        "from tensorflow.keras.utils import to_categorical\n",
        "from tensorflow.keras.preprocessing import image_dataset_from_directory\n",
        "import matplotlib.pyplot as plt"
      ]
    },
    {
      "cell_type": "code",
      "execution_count": null,
      "metadata": {
        "id": "NI3pYrNc1WBI"
      },
      "outputs": [],
      "source": [
        "Training='/content/drive/MyDrive/letters_recognition/'"
      ]
    },
    {
      "cell_type": "code",
      "execution_count": null,
      "metadata": {
        "id": "rVsDg3jtEMp8"
      },
      "outputs": [],
      "source": [
        "train_datagen = ImageDataGenerator(rescale=1/255,validation_split=0.2,\n",
        "        rotation_range=30,\n",
        "        zoom_range = 0.1,\n",
        "        shear_range = 0.2,\n",
        "        width_shift_range=0.122,\n",
        "        height_shift_range=0.122,\n",
        "        brightness_range = (0.5, 1.5)\n",
        "                                  )"
      ]
    },
    {
      "cell_type": "code",
      "execution_count": null,
      "metadata": {
        "id": "PYhrSqvc6DSl"
      },
      "outputs": [],
      "source": [
        "valid_datagen = ImageDataGenerator(rescale=1/255,validation_split=0.2)"
      ]
    },
    {
      "cell_type": "code",
      "execution_count": null,
      "metadata": {
        "id": "DzkJGENN6ErV"
      },
      "outputs": [],
      "source": [
        "input_shape=(32,32,3)"
      ]
    },
    {
      "cell_type": "code",
      "execution_count": null,
      "metadata": {
        "colab": {
          "base_uri": "https://localhost:8080/"
        },
        "id": "3Yl81p-h6HkW",
        "outputId": "7b32d018-203c-48d4-ec23-fdf5d2bced72"
      },
      "outputs": [
        {
          "output_type": "stream",
          "name": "stdout",
          "text": [
            "Found 3626 images belonging to 17 classes.\n"
          ]
        }
      ],
      "source": [
        "train_data = train_datagen.flow_from_directory(\n",
        "   Training,\n",
        "    subset=\"training\",\n",
        "    seed=2,\n",
        "    target_size=(input_shape[0], input_shape[1]),\n",
        "    batch_size=32,\n",
        "    class_mode=\"categorical\")"
      ]
    },
    {
      "cell_type": "code",
      "execution_count": null,
      "metadata": {
        "colab": {
          "base_uri": "https://localhost:8080/"
        },
        "id": "kBpQBCEN6MTf",
        "outputId": "000dd3ab-e252-403e-9202-c5a437f3368c"
      },
      "outputs": [
        {
          "output_type": "stream",
          "name": "stdout",
          "text": [
            "Found 899 images belonging to 17 classes.\n"
          ]
        }
      ],
      "source": [
        "valid_data = valid_datagen.flow_from_directory(\n",
        "   Training,\n",
        "    subset=\"validation\",\n",
        "    seed=2,\n",
        "    target_size=(input_shape[0], input_shape[1]),\n",
        "    batch_size=32,\n",
        "    class_mode=\"categorical\")"
      ]
    },
    {
      "cell_type": "code",
      "execution_count": null,
      "metadata": {
        "id": "XsSMHtXi6PzX"
      },
      "outputs": [],
      "source": [
        "## imports for model\n",
        "from tensorflow import keras\n",
        "from keras.layers import Dropout, Flatten,Activation ,Conv2D, MaxPooling2D, BatchNormalization\n",
        "from tensorflow.keras import Model\n",
        "from tensorflow.keras.optimizers import Adam\n",
        "import tensorflow as tf\n",
        "from tensorflow.keras.callbacks import ReduceLROnPlateau,EarlyStopping\n",
        "from tensorflow.keras.applications import ResNet50,DenseNet121,MobileNetV2\n"
      ]
    },
    {
      "cell_type": "code",
      "execution_count": null,
      "metadata": {
        "id": "CdlF_JLdFNQ_",
        "colab": {
          "base_uri": "https://localhost:8080/"
        },
        "outputId": "64e417aa-01db-4aa1-b4bf-8b23093b6a65"
      },
      "outputs": [
        {
          "output_type": "stream",
          "name": "stderr",
          "text": [
            "WARNING:tensorflow:`input_shape` is undefined or non-square, or `rows` is not in [96, 128, 160, 192, 224]. Weights for input shape (224, 224) will be loaded as the default.\n"
          ]
        }
      ],
      "source": [
        "MobileNetV2=MobileNetV2(include_top=False,input_shape=(32, 32, 3))\n",
        "MobileNetV2.trainable=False"
      ]
    },
    {
      "cell_type": "code",
      "execution_count": null,
      "metadata": {
        "colab": {
          "base_uri": "https://localhost:8080/"
        },
        "id": "xbR8yEelFfBc",
        "outputId": "f1d5121f-fd0d-423b-c51b-7f4dfa3052e6"
      },
      "outputs": [
        {
          "output_type": "stream",
          "name": "stderr",
          "text": [
            "WARNING:tensorflow:`epsilon` argument is deprecated and will be removed, use `min_delta` instead.\n"
          ]
        }
      ],
      "source": [
        "Early_Stopping = EarlyStopping(\n",
        "    monitor='val_loss', # Same as the\n",
        "    patience=5, # Wait for 5 epochs before stopping the training\n",
        "    verbose=1,\n",
        "    restore_best_weights='True', # Restore model weights from the epoch with the best value of the monitored quantity.\n",
        "    min_delta=0.1\n",
        ")\n",
        "reduce_on_plateau =ReduceLROnPlateau(\n",
        "        monitor  = 'loss',\n",
        "        factor   = 0.1,\n",
        "        patience = 2,\n",
        "        verbose  = 1,\n",
        "        mode     = 'min',\n",
        "        epsilon  = 0.01,\n",
        "        cooldown = 0,\n",
        "        min_lr   = 0\n",
        "    )"
      ]
    },
    {
      "cell_type": "code",
      "execution_count": null,
      "metadata": {
        "id": "XQ3Yhig-FRm8"
      },
      "outputs": [],
      "source": [
        "inputs = tf.keras.Input(shape=input_shape)\n",
        "x=MobileNetV2(inputs)\n",
        "x = layers.Flatten()(x)\n",
        "x = layers.Dense(1024, activation='relu')(x)\n",
        "x = layers.Dense(1024, activation='relu')(x)\n",
        "x = layers.Dense(1024, activation='relu')(x)\n",
        "x = layers.Dropout(0.3)(x)\n",
        "outputs = layers.Dense(17, activation='softmax')(x)\n",
        "model = tf.keras.Model(inputs, outputs)"
      ]
    },
    {
      "cell_type": "code",
      "execution_count": null,
      "metadata": {
        "id": "wIavISrF7hdP"
      },
      "outputs": [],
      "source": [
        "model.compile(loss='categorical_crossentropy',optimizer='Adam',metrics=['accuracy'])"
      ]
    },
    {
      "cell_type": "code",
      "source": [
        "model.summary()"
      ],
      "metadata": {
        "colab": {
          "base_uri": "https://localhost:8080/"
        },
        "id": "0v-MrbDGhJeY",
        "outputId": "40d3d7e1-d4a4-4f56-aaf9-86dff48ab91b"
      },
      "execution_count": null,
      "outputs": [
        {
          "output_type": "stream",
          "name": "stdout",
          "text": [
            "Model: \"model\"\n",
            "_________________________________________________________________\n",
            " Layer (type)                Output Shape              Param #   \n",
            "=================================================================\n",
            " input_2 (InputLayer)        [(None, 32, 32, 3)]       0         \n",
            "                                                                 \n",
            " mobilenetv2_1.00_224 (Funct  (None, 1, 1, 1280)       2257984   \n",
            " ional)                                                          \n",
            "                                                                 \n",
            " flatten (Flatten)           (None, 1280)              0         \n",
            "                                                                 \n",
            " dense (Dense)               (None, 1024)              1311744   \n",
            "                                                                 \n",
            " dense_1 (Dense)             (None, 1024)              1049600   \n",
            "                                                                 \n",
            " dense_2 (Dense)             (None, 1024)              1049600   \n",
            "                                                                 \n",
            " dropout (Dropout)           (None, 1024)              0         \n",
            "                                                                 \n",
            " dense_3 (Dense)             (None, 17)                17425     \n",
            "                                                                 \n",
            "=================================================================\n",
            "Total params: 5,686,353\n",
            "Trainable params: 5,652,241\n",
            "Non-trainable params: 34,112\n",
            "_________________________________________________________________\n"
          ]
        }
      ]
    },
    {
      "cell_type": "code",
      "execution_count": null,
      "metadata": {
        "colab": {
          "base_uri": "https://localhost:8080/"
        },
        "id": "oKcpn6az7ohS",
        "outputId": "2c08722d-3d3e-4dea-fdcb-ed2c1c2db1bc"
      },
      "outputs": [
        {
          "output_type": "stream",
          "name": "stdout",
          "text": [
            "Epoch 1/150\n",
            "114/114 [==============================] - 53s 153ms/step - loss: 0.7888 - accuracy: 0.8489 - val_loss: 0.5583 - val_accuracy: 0.8042 - lr: 0.0010\n",
            "Epoch 2/150\n",
            "114/114 [==============================] - 12s 105ms/step - loss: 0.5989 - accuracy: 0.8762 - val_loss: 0.3905 - val_accuracy: 0.8799 - lr: 0.0010\n",
            "Epoch 3/150\n",
            "114/114 [==============================] - 11s 97ms/step - loss: 0.4314 - accuracy: 0.9117 - val_loss: 0.8273 - val_accuracy: 0.8387 - lr: 0.0010\n",
            "Epoch 4/150\n",
            "114/114 [==============================] - 12s 104ms/step - loss: 0.4656 - accuracy: 0.9040 - val_loss: 0.6017 - val_accuracy: 0.8877 - lr: 0.0010\n",
            "Epoch 5/150\n",
            "114/114 [==============================] - ETA: 0s - loss: 0.4485 - accuracy: 0.9046\n",
            "Epoch 5: ReduceLROnPlateau reducing learning rate to 0.00010000000474974513.\n",
            "114/114 [==============================] - 12s 102ms/step - loss: 0.4485 - accuracy: 0.9046 - val_loss: 2.6217 - val_accuracy: 0.5984 - lr: 0.0010\n",
            "Epoch 6/150\n",
            "114/114 [==============================] - 11s 100ms/step - loss: 0.2740 - accuracy: 0.9470 - val_loss: 0.9457 - val_accuracy: 0.8498 - lr: 1.0000e-04\n",
            "Epoch 7/150\n",
            "114/114 [==============================] - 12s 103ms/step - loss: 0.1837 - accuracy: 0.9606 - val_loss: 0.5080 - val_accuracy: 0.9043 - lr: 1.0000e-04\n",
            "Epoch 8/150\n",
            "114/114 [==============================] - 13s 118ms/step - loss: 0.1779 - accuracy: 0.9595 - val_loss: 0.2549 - val_accuracy: 0.9477 - lr: 1.0000e-04\n",
            "Epoch 9/150\n",
            "114/114 [==============================] - 12s 105ms/step - loss: 0.1596 - accuracy: 0.9669 - val_loss: 0.0818 - val_accuracy: 0.9778 - lr: 1.0000e-04\n",
            "Epoch 10/150\n",
            "114/114 [==============================] - 12s 106ms/step - loss: 0.1453 - accuracy: 0.9669 - val_loss: 0.0665 - val_accuracy: 0.9855 - lr: 1.0000e-04\n",
            "Epoch 11/150\n",
            "114/114 [==============================] - 12s 105ms/step - loss: 0.1211 - accuracy: 0.9710 - val_loss: 0.0482 - val_accuracy: 0.9900 - lr: 1.0000e-04\n",
            "Epoch 12/150\n",
            "114/114 [==============================] - 12s 107ms/step - loss: 0.1269 - accuracy: 0.9716 - val_loss: 0.0320 - val_accuracy: 0.9922 - lr: 1.0000e-04\n",
            "Epoch 13/150\n",
            "114/114 [==============================] - ETA: 0s - loss: 0.1122 - accuracy: 0.9738\n",
            "Epoch 13: ReduceLROnPlateau reducing learning rate to 1.0000000474974514e-05.\n",
            "114/114 [==============================] - 12s 103ms/step - loss: 0.1122 - accuracy: 0.9738 - val_loss: 0.0244 - val_accuracy: 0.9956 - lr: 1.0000e-04\n",
            "Epoch 14/150\n",
            "114/114 [==============================] - 12s 101ms/step - loss: 0.1168 - accuracy: 0.9694 - val_loss: 0.0239 - val_accuracy: 0.9978 - lr: 1.0000e-05\n",
            "Epoch 15/150\n",
            "114/114 [==============================] - 11s 95ms/step - loss: 0.0949 - accuracy: 0.9793 - val_loss: 0.0230 - val_accuracy: 0.9978 - lr: 1.0000e-05\n",
            "Epoch 16/150\n",
            "114/114 [==============================] - 12s 103ms/step - loss: 0.0986 - accuracy: 0.9760 - val_loss: 0.0227 - val_accuracy: 0.9956 - lr: 1.0000e-05\n",
            "Epoch 17/150\n",
            "114/114 [==============================] - ETA: 0s - loss: 0.1226 - accuracy: 0.9732\n",
            "Epoch 17: ReduceLROnPlateau reducing learning rate to 1.0000000656873453e-06.\n",
            "114/114 [==============================] - 12s 104ms/step - loss: 0.1226 - accuracy: 0.9732 - val_loss: 0.0234 - val_accuracy: 0.9967 - lr: 1.0000e-05\n",
            "Epoch 18/150\n",
            "114/114 [==============================] - 12s 103ms/step - loss: 0.1285 - accuracy: 0.9719 - val_loss: 0.0235 - val_accuracy: 0.9967 - lr: 1.0000e-06\n",
            "Epoch 19/150\n",
            "114/114 [==============================] - ETA: 0s - loss: 0.1174 - accuracy: 0.9708\n",
            "Epoch 19: ReduceLROnPlateau reducing learning rate to 1.0000001111620805e-07.\n",
            "114/114 [==============================] - 12s 102ms/step - loss: 0.1174 - accuracy: 0.9708 - val_loss: 0.0235 - val_accuracy: 0.9978 - lr: 1.0000e-06\n",
            "Epoch 20/150\n",
            "114/114 [==============================] - 12s 106ms/step - loss: 0.1046 - accuracy: 0.9746 - val_loss: 0.0235 - val_accuracy: 0.9978 - lr: 1.0000e-07\n",
            "Epoch 21/150\n",
            "114/114 [==============================] - ETA: 0s - loss: 0.1180 - accuracy: 0.9738\n",
            "Epoch 21: ReduceLROnPlateau reducing learning rate to 1.000000082740371e-08.\n",
            "114/114 [==============================] - 12s 102ms/step - loss: 0.1180 - accuracy: 0.9738 - val_loss: 0.0236 - val_accuracy: 0.9967 - lr: 1.0000e-07\n",
            "Epoch 22/150\n",
            "114/114 [==============================] - 13s 112ms/step - loss: 0.1240 - accuracy: 0.9746 - val_loss: 0.0236 - val_accuracy: 0.9967 - lr: 1.0000e-08\n",
            "Epoch 23/150\n",
            "114/114 [==============================] - ETA: 0s - loss: 0.1103 - accuracy: 0.9746\n",
            "Epoch 23: ReduceLROnPlateau reducing learning rate to 1.000000082740371e-09.\n",
            "114/114 [==============================] - 11s 99ms/step - loss: 0.1103 - accuracy: 0.9746 - val_loss: 0.0237 - val_accuracy: 0.9967 - lr: 1.0000e-08\n",
            "Epoch 24/150\n",
            "114/114 [==============================] - 12s 101ms/step - loss: 0.1047 - accuracy: 0.9755 - val_loss: 0.0239 - val_accuracy: 0.9967 - lr: 1.0000e-09\n",
            "Epoch 25/150\n",
            "113/114 [============================>.] - ETA: 0s - loss: 0.0903 - accuracy: 0.9793\n",
            "Epoch 25: ReduceLROnPlateau reducing learning rate to 1.000000082740371e-10.\n",
            "114/114 [==============================] - 12s 103ms/step - loss: 0.0901 - accuracy: 0.9793 - val_loss: 0.0239 - val_accuracy: 0.9967 - lr: 1.0000e-09\n",
            "Epoch 26/150\n",
            "114/114 [==============================] - 12s 104ms/step - loss: 0.1166 - accuracy: 0.9710 - val_loss: 0.0240 - val_accuracy: 0.9967 - lr: 1.0000e-10\n",
            "Epoch 27/150\n",
            "114/114 [==============================] - ETA: 0s - loss: 0.0971 - accuracy: 0.9771\n",
            "Epoch 27: ReduceLROnPlateau reducing learning rate to 1.000000082740371e-11.\n",
            "114/114 [==============================] - 12s 104ms/step - loss: 0.0971 - accuracy: 0.9771 - val_loss: 0.0240 - val_accuracy: 0.9967 - lr: 1.0000e-10\n",
            "Epoch 28/150\n",
            "114/114 [==============================] - 12s 109ms/step - loss: 0.1142 - accuracy: 0.9730 - val_loss: 0.0241 - val_accuracy: 0.9967 - lr: 1.0000e-11\n",
            "Epoch 29/150\n",
            "114/114 [==============================] - ETA: 0s - loss: 0.0998 - accuracy: 0.9746\n",
            "Epoch 29: ReduceLROnPlateau reducing learning rate to 1.000000082740371e-12.\n",
            "114/114 [==============================] - 10s 92ms/step - loss: 0.0998 - accuracy: 0.9746 - val_loss: 0.0242 - val_accuracy: 0.9967 - lr: 1.0000e-11\n",
            "Epoch 30/150\n",
            "114/114 [==============================] - 12s 102ms/step - loss: 0.1170 - accuracy: 0.9744 - val_loss: 0.0243 - val_accuracy: 0.9967 - lr: 1.0000e-12\n",
            "Epoch 31/150\n",
            "114/114 [==============================] - ETA: 0s - loss: 0.1275 - accuracy: 0.9691\n",
            "Epoch 31: ReduceLROnPlateau reducing learning rate to 1.0000001044244145e-13.\n",
            "114/114 [==============================] - 12s 102ms/step - loss: 0.1275 - accuracy: 0.9691 - val_loss: 0.0244 - val_accuracy: 0.9967 - lr: 1.0000e-12\n",
            "Epoch 32/150\n",
            "114/114 [==============================] - 12s 104ms/step - loss: 0.1178 - accuracy: 0.9716 - val_loss: 0.0245 - val_accuracy: 0.9967 - lr: 1.0000e-13\n",
            "Epoch 33/150\n",
            "114/114 [==============================] - ETA: 0s - loss: 0.0987 - accuracy: 0.9766\n",
            "Epoch 33: ReduceLROnPlateau reducing learning rate to 1.0000001179769417e-14.\n",
            "114/114 [==============================] - 11s 96ms/step - loss: 0.0987 - accuracy: 0.9766 - val_loss: 0.0245 - val_accuracy: 0.9967 - lr: 1.0000e-13\n",
            "Epoch 34/150\n",
            "114/114 [==============================] - 12s 103ms/step - loss: 0.1189 - accuracy: 0.9708 - val_loss: 0.0245 - val_accuracy: 0.9967 - lr: 1.0000e-14\n",
            "Epoch 35/150\n",
            "114/114 [==============================] - ETA: 0s - loss: 0.1101 - accuracy: 0.9749\n",
            "Epoch 35: ReduceLROnPlateau reducing learning rate to 1.0000001518582595e-15.\n",
            "114/114 [==============================] - 12s 102ms/step - loss: 0.1101 - accuracy: 0.9749 - val_loss: 0.0246 - val_accuracy: 0.9967 - lr: 1.0000e-14\n",
            "Epoch 36/150\n",
            "114/114 [==============================] - 12s 101ms/step - loss: 0.1212 - accuracy: 0.9716 - val_loss: 0.0246 - val_accuracy: 0.9967 - lr: 1.0000e-15\n",
            "Epoch 37/150\n",
            "114/114 [==============================] - ETA: 0s - loss: 0.1119 - accuracy: 0.9738\n",
            "Epoch 37: ReduceLROnPlateau reducing learning rate to 1.0000001095066122e-16.\n",
            "114/114 [==============================] - 12s 103ms/step - loss: 0.1119 - accuracy: 0.9738 - val_loss: 0.0247 - val_accuracy: 0.9967 - lr: 1.0000e-15\n",
            "Epoch 38/150\n",
            "114/114 [==============================] - 12s 103ms/step - loss: 0.0996 - accuracy: 0.9763 - val_loss: 0.0248 - val_accuracy: 0.9967 - lr: 1.0000e-16\n",
            "Epoch 39/150\n",
            "114/114 [==============================] - ETA: 0s - loss: 0.0925 - accuracy: 0.9785\n",
            "Epoch 39: ReduceLROnPlateau reducing learning rate to 1.0000000830368326e-17.\n",
            "114/114 [==============================] - 12s 103ms/step - loss: 0.0925 - accuracy: 0.9785 - val_loss: 0.0248 - val_accuracy: 0.9967 - lr: 1.0000e-16\n",
            "Epoch 40/150\n",
            "114/114 [==============================] - 12s 102ms/step - loss: 0.1163 - accuracy: 0.9724 - val_loss: 0.0249 - val_accuracy: 0.9967 - lr: 1.0000e-17\n",
            "Epoch 41/150\n",
            "113/114 [============================>.] - ETA: 0s - loss: 0.1121 - accuracy: 0.9744\n",
            "Epoch 41: ReduceLROnPlateau reducing learning rate to 1.0000000664932204e-18.\n",
            "114/114 [==============================] - 12s 101ms/step - loss: 0.1114 - accuracy: 0.9746 - val_loss: 0.0249 - val_accuracy: 0.9967 - lr: 1.0000e-17\n",
            "Epoch 42/150\n",
            "114/114 [==============================] - 12s 104ms/step - loss: 0.1091 - accuracy: 0.9755 - val_loss: 0.0249 - val_accuracy: 0.9967 - lr: 1.0000e-18\n",
            "Epoch 43/150\n",
            "114/114 [==============================] - ETA: 0s - loss: 0.1091 - accuracy: 0.9760\n",
            "Epoch 43: ReduceLROnPlateau reducing learning rate to 1.000000045813705e-19.\n",
            "114/114 [==============================] - 12s 103ms/step - loss: 0.1091 - accuracy: 0.9760 - val_loss: 0.0249 - val_accuracy: 0.9967 - lr: 1.0000e-18\n",
            "Epoch 44/150\n",
            "114/114 [==============================] - 13s 115ms/step - loss: 0.1256 - accuracy: 0.9705 - val_loss: 0.0249 - val_accuracy: 0.9967 - lr: 1.0000e-19\n",
            "Epoch 45/150\n",
            "114/114 [==============================] - ETA: 0s - loss: 0.1140 - accuracy: 0.9735\n",
            "Epoch 45: ReduceLROnPlateau reducing learning rate to 1.000000032889008e-20.\n",
            "114/114 [==============================] - 11s 100ms/step - loss: 0.1140 - accuracy: 0.9735 - val_loss: 0.0249 - val_accuracy: 0.9967 - lr: 1.0000e-19\n",
            "Epoch 46/150\n",
            "114/114 [==============================] - 11s 93ms/step - loss: 0.1054 - accuracy: 0.9757 - val_loss: 0.0250 - val_accuracy: 0.9967 - lr: 1.0000e-20\n",
            "Epoch 47/150\n",
            "114/114 [==============================] - ETA: 0s - loss: 0.0995 - accuracy: 0.9768\n",
            "Epoch 47: ReduceLROnPlateau reducing learning rate to 1.0000000490448793e-21.\n",
            "114/114 [==============================] - 11s 100ms/step - loss: 0.0995 - accuracy: 0.9768 - val_loss: 0.0250 - val_accuracy: 0.9967 - lr: 1.0000e-20\n",
            "Epoch 48/150\n",
            "114/114 [==============================] - 12s 104ms/step - loss: 0.1140 - accuracy: 0.9724 - val_loss: 0.0250 - val_accuracy: 0.9967 - lr: 1.0000e-21\n",
            "Epoch 49/150\n",
            "114/114 [==============================] - ETA: 0s - loss: 0.1210 - accuracy: 0.9721\n",
            "Epoch 49: ReduceLROnPlateau reducing learning rate to 1.0000000692397185e-22.\n",
            "114/114 [==============================] - 12s 105ms/step - loss: 0.1210 - accuracy: 0.9721 - val_loss: 0.0251 - val_accuracy: 0.9967 - lr: 1.0000e-21\n",
            "Epoch 50/150\n",
            "114/114 [==============================] - 12s 102ms/step - loss: 0.1161 - accuracy: 0.9719 - val_loss: 0.0251 - val_accuracy: 0.9967 - lr: 1.0000e-22\n",
            "Epoch 51/150\n",
            "114/114 [==============================] - ETA: 0s - loss: 0.1110 - accuracy: 0.9730\n",
            "Epoch 51: ReduceLROnPlateau reducing learning rate to 1.0000000944832675e-23.\n",
            "114/114 [==============================] - 12s 102ms/step - loss: 0.1110 - accuracy: 0.9730 - val_loss: 0.0251 - val_accuracy: 0.9967 - lr: 1.0000e-22\n",
            "Epoch 52/150\n",
            "114/114 [==============================] - 11s 96ms/step - loss: 0.1091 - accuracy: 0.9768 - val_loss: 0.0251 - val_accuracy: 0.9967 - lr: 1.0000e-23\n",
            "Epoch 53/150\n",
            "114/114 [==============================] - ETA: 0s - loss: 0.1056 - accuracy: 0.9779\n",
            "Epoch 53: ReduceLROnPlateau reducing learning rate to 1.0000000787060494e-24.\n",
            "114/114 [==============================] - 12s 104ms/step - loss: 0.1056 - accuracy: 0.9779 - val_loss: 0.0251 - val_accuracy: 0.9967 - lr: 1.0000e-23\n",
            "Epoch 54/150\n",
            "114/114 [==============================] - 12s 101ms/step - loss: 0.0943 - accuracy: 0.9768 - val_loss: 0.0251 - val_accuracy: 0.9967 - lr: 1.0000e-24\n",
            "Epoch 55/150\n",
            "114/114 [==============================] - ETA: 0s - loss: 0.1456 - accuracy: 0.9686\n",
            "Epoch 55: ReduceLROnPlateau reducing learning rate to 1.0000001181490946e-25.\n",
            "114/114 [==============================] - 11s 96ms/step - loss: 0.1456 - accuracy: 0.9686 - val_loss: 0.0251 - val_accuracy: 0.9967 - lr: 1.0000e-24\n",
            "Epoch 56/150\n",
            "114/114 [==============================] - 12s 104ms/step - loss: 0.1065 - accuracy: 0.9738 - val_loss: 0.0251 - val_accuracy: 0.9967 - lr: 1.0000e-25\n",
            "Epoch 57/150\n",
            "114/114 [==============================] - ETA: 0s - loss: 0.1100 - accuracy: 0.9730\n",
            "Epoch 57: ReduceLROnPlateau reducing learning rate to 1.0000001428009978e-26.\n",
            "114/114 [==============================] - 12s 103ms/step - loss: 0.1100 - accuracy: 0.9730 - val_loss: 0.0251 - val_accuracy: 0.9967 - lr: 1.0000e-25\n",
            "Epoch 58/150\n",
            "114/114 [==============================] - 12s 105ms/step - loss: 0.1197 - accuracy: 0.9735 - val_loss: 0.0251 - val_accuracy: 0.9967 - lr: 1.0000e-26\n",
            "Epoch 59/150\n",
            "114/114 [==============================] - ETA: 0s - loss: 0.1140 - accuracy: 0.9732\n",
            "Epoch 59: ReduceLROnPlateau reducing learning rate to 1.000000142800998e-27.\n",
            "114/114 [==============================] - 12s 104ms/step - loss: 0.1140 - accuracy: 0.9732 - val_loss: 0.0251 - val_accuracy: 0.9967 - lr: 1.0000e-26\n",
            "Epoch 60/150\n",
            "114/114 [==============================] - 11s 98ms/step - loss: 0.1165 - accuracy: 0.9744 - val_loss: 0.0251 - val_accuracy: 0.9967 - lr: 1.0000e-27\n",
            "Epoch 61/150\n",
            "114/114 [==============================] - ETA: 0s - loss: 0.1101 - accuracy: 0.9768\n",
            "Epoch 61: ReduceLROnPlateau reducing learning rate to 1.0000001235416984e-28.\n",
            "114/114 [==============================] - 12s 103ms/step - loss: 0.1101 - accuracy: 0.9768 - val_loss: 0.0251 - val_accuracy: 0.9967 - lr: 1.0000e-27\n",
            "Epoch 62/150\n",
            "114/114 [==============================] - 12s 104ms/step - loss: 0.1169 - accuracy: 0.9741 - val_loss: 0.0251 - val_accuracy: 0.9967 - lr: 1.0000e-28\n",
            "Epoch 63/150\n",
            "114/114 [==============================] - ETA: 0s - loss: 0.1260 - accuracy: 0.9721\n",
            "Epoch 63: ReduceLROnPlateau reducing learning rate to 1.0000001235416985e-29.\n",
            "114/114 [==============================] - 12s 104ms/step - loss: 0.1260 - accuracy: 0.9721 - val_loss: 0.0250 - val_accuracy: 0.9967 - lr: 1.0000e-28\n",
            "Epoch 64/150\n",
            "114/114 [==============================] - 12s 102ms/step - loss: 0.1177 - accuracy: 0.9732 - val_loss: 0.0250 - val_accuracy: 0.9967 - lr: 1.0000e-29\n",
            "Epoch 65/150\n",
            "114/114 [==============================] - ETA: 0s - loss: 0.1067 - accuracy: 0.9752\n",
            "Epoch 65: ReduceLROnPlateau reducing learning rate to 1.0000001536343539e-30.\n",
            "114/114 [==============================] - 12s 102ms/step - loss: 0.1067 - accuracy: 0.9752 - val_loss: 0.0250 - val_accuracy: 0.9967 - lr: 1.0000e-29\n",
            "Epoch 66/150\n",
            "114/114 [==============================] - 13s 115ms/step - loss: 0.1246 - accuracy: 0.9705 - val_loss: 0.0250 - val_accuracy: 0.9967 - lr: 1.0000e-30\n",
            "Epoch 67/150\n",
            "114/114 [==============================] - ETA: 0s - loss: 0.1139 - accuracy: 0.9735\n",
            "Epoch 67: ReduceLROnPlateau reducing learning rate to 1.000000191250173e-31.\n",
            "114/114 [==============================] - 12s 103ms/step - loss: 0.1139 - accuracy: 0.9735 - val_loss: 0.0250 - val_accuracy: 0.9967 - lr: 1.0000e-30\n",
            "Epoch 68/150\n",
            "114/114 [==============================] - 12s 103ms/step - loss: 0.1010 - accuracy: 0.9766 - val_loss: 0.0250 - val_accuracy: 0.9967 - lr: 1.0000e-31\n",
            "Epoch 69/150\n",
            "114/114 [==============================] - ETA: 0s - loss: 0.1143 - accuracy: 0.9766\n",
            "Epoch 69: ReduceLROnPlateau reducing learning rate to 1.0000002147600601e-32.\n",
            "114/114 [==============================] - 12s 102ms/step - loss: 0.1143 - accuracy: 0.9766 - val_loss: 0.0249 - val_accuracy: 0.9967 - lr: 1.0000e-31\n",
            "Epoch 70/150\n",
            "114/114 [==============================] - 12s 101ms/step - loss: 0.1042 - accuracy: 0.9741 - val_loss: 0.0249 - val_accuracy: 0.9967 - lr: 1.0000e-32\n",
            "Epoch 71/150\n",
            "114/114 [==============================] - ETA: 0s - loss: 0.1260 - accuracy: 0.9727\n",
            "Epoch 71: ReduceLROnPlateau reducing learning rate to 1.0000002441474188e-33.\n",
            "114/114 [==============================] - 12s 103ms/step - loss: 0.1260 - accuracy: 0.9727 - val_loss: 0.0249 - val_accuracy: 0.9967 - lr: 1.0000e-32\n",
            "Epoch 72/150\n",
            "114/114 [==============================] - 12s 101ms/step - loss: 0.1094 - accuracy: 0.9749 - val_loss: 0.0249 - val_accuracy: 0.9967 - lr: 1.0000e-33\n",
            "Epoch 73/150\n",
            "114/114 [==============================] - ETA: 0s - loss: 0.0982 - accuracy: 0.9757\n",
            "Epoch 73: ReduceLROnPlateau reducing learning rate to 1.0000002074132203e-34.\n",
            "114/114 [==============================] - 12s 103ms/step - loss: 0.0982 - accuracy: 0.9757 - val_loss: 0.0249 - val_accuracy: 0.9967 - lr: 1.0000e-33\n",
            "Epoch 74/150\n",
            "114/114 [==============================] - 12s 104ms/step - loss: 0.1255 - accuracy: 0.9724 - val_loss: 0.0249 - val_accuracy: 0.9967 - lr: 1.0000e-34\n",
            "Epoch 75/150\n",
            "114/114 [==============================] - 12s 107ms/step - loss: 0.0843 - accuracy: 0.9818 - val_loss: 0.0250 - val_accuracy: 0.9967 - lr: 1.0000e-34\n",
            "Epoch 76/150\n",
            "114/114 [==============================] - 12s 103ms/step - loss: 0.1188 - accuracy: 0.9730 - val_loss: 0.0250 - val_accuracy: 0.9967 - lr: 1.0000e-34\n",
            "Epoch 77/150\n",
            "114/114 [==============================] - ETA: 0s - loss: 0.1008 - accuracy: 0.9755\n",
            "Epoch 77: ReduceLROnPlateau reducing learning rate to 1.0000001614954722e-35.\n",
            "114/114 [==============================] - 12s 103ms/step - loss: 0.1008 - accuracy: 0.9755 - val_loss: 0.0250 - val_accuracy: 0.9967 - lr: 1.0000e-34\n",
            "Epoch 78/150\n",
            "114/114 [==============================] - 12s 103ms/step - loss: 0.1004 - accuracy: 0.9746 - val_loss: 0.0250 - val_accuracy: 0.9967 - lr: 1.0000e-35\n",
            "Epoch 79/150\n",
            "114/114 [==============================] - ETA: 0s - loss: 0.1015 - accuracy: 0.9749\n",
            "Epoch 79: ReduceLROnPlateau reducing learning rate to 1.0000001614954723e-36.\n",
            "114/114 [==============================] - 13s 113ms/step - loss: 0.1015 - accuracy: 0.9749 - val_loss: 0.0250 - val_accuracy: 0.9967 - lr: 1.0000e-35\n",
            "Epoch 80/150\n",
            "114/114 [==============================] - 12s 104ms/step - loss: 0.0903 - accuracy: 0.9804 - val_loss: 0.0250 - val_accuracy: 0.9967 - lr: 1.0000e-36\n",
            "Epoch 81/150\n",
            "114/114 [==============================] - ETA: 0s - loss: 0.1039 - accuracy: 0.9760\n",
            "Epoch 81: ReduceLROnPlateau reducing learning rate to 1.0000001256222317e-37.\n",
            "114/114 [==============================] - 12s 103ms/step - loss: 0.1039 - accuracy: 0.9760 - val_loss: 0.0249 - val_accuracy: 0.9967 - lr: 1.0000e-36\n",
            "Epoch 82/150\n",
            "114/114 [==============================] - 12s 104ms/step - loss: 0.1248 - accuracy: 0.9705 - val_loss: 0.0249 - val_accuracy: 0.9967 - lr: 1.0000e-37\n",
            "Epoch 83/150\n",
            "114/114 [==============================] - ETA: 0s - loss: 0.0955 - accuracy: 0.9771\n",
            "Epoch 83: ReduceLROnPlateau reducing learning rate to 1.0000001032014561e-38.\n",
            "114/114 [==============================] - 12s 102ms/step - loss: 0.0955 - accuracy: 0.9771 - val_loss: 0.0250 - val_accuracy: 0.9967 - lr: 1.0000e-37\n",
            "Epoch 84/150\n",
            "114/114 [==============================] - 13s 111ms/step - loss: 0.1117 - accuracy: 0.9738 - val_loss: 0.0250 - val_accuracy: 0.9967 - lr: 1.0000e-38\n",
            "Epoch 85/150\n",
            "114/114 [==============================] - ETA: 0s - loss: 0.1251 - accuracy: 0.9705\n",
            "Epoch 85: ReduceLROnPlateau reducing learning rate to 1.0000000751754869e-39.\n",
            "114/114 [==============================] - 12s 102ms/step - loss: 0.1251 - accuracy: 0.9705 - val_loss: 0.0250 - val_accuracy: 0.9967 - lr: 1.0000e-38\n",
            "Epoch 86/150\n",
            "114/114 [==============================] - 12s 104ms/step - loss: 0.1097 - accuracy: 0.9744 - val_loss: 0.0250 - val_accuracy: 0.9967 - lr: 1.0000e-39\n",
            "Epoch 87/150\n",
            "114/114 [==============================] - ETA: 0s - loss: 0.1071 - accuracy: 0.9730\n",
            "Epoch 87: ReduceLROnPlateau reducing learning rate to 1.0000002153053334e-40.\n",
            "114/114 [==============================] - 12s 104ms/step - loss: 0.1071 - accuracy: 0.9730 - val_loss: 0.0250 - val_accuracy: 0.9967 - lr: 1.0000e-39\n",
            "Epoch 88/150\n",
            "114/114 [==============================] - 12s 104ms/step - loss: 0.1347 - accuracy: 0.9708 - val_loss: 0.0250 - val_accuracy: 0.9967 - lr: 9.9999e-41\n",
            "Epoch 89/150\n",
            "114/114 [==============================] - ETA: 0s - loss: 0.1090 - accuracy: 0.9774\n",
            "Epoch 89: ReduceLROnPlateau reducing learning rate to 9.99994610111476e-42.\n",
            "114/114 [==============================] - 11s 98ms/step - loss: 0.1090 - accuracy: 0.9774 - val_loss: 0.0250 - val_accuracy: 0.9967 - lr: 9.9999e-41\n",
            "Epoch 90/150\n",
            "114/114 [==============================] - 12s 102ms/step - loss: 0.1239 - accuracy: 0.9724 - val_loss: 0.0249 - val_accuracy: 0.9967 - lr: 9.9997e-42\n",
            "Epoch 91/150\n",
            "114/114 [==============================] - ETA: 0s - loss: 0.1120 - accuracy: 0.9749\n",
            "Epoch 91: ReduceLROnPlateau reducing learning rate to 9.999665841421895e-43.\n",
            "114/114 [==============================] - 12s 103ms/step - loss: 0.1120 - accuracy: 0.9749 - val_loss: 0.0249 - val_accuracy: 0.9967 - lr: 9.9997e-42\n",
            "Epoch 92/150\n",
            "114/114 [==============================] - 12s 101ms/step - loss: 0.0994 - accuracy: 0.9766 - val_loss: 0.0249 - val_accuracy: 0.9967 - lr: 1.0005e-42\n",
            "Epoch 93/150\n",
            "114/114 [==============================] - ETA: 0s - loss: 0.1003 - accuracy: 0.9760\n",
            "Epoch 93: ReduceLROnPlateau reducing learning rate to 1.0005271035279195e-43.\n",
            "114/114 [==============================] - 12s 103ms/step - loss: 0.1003 - accuracy: 0.9760 - val_loss: 0.0250 - val_accuracy: 0.9967 - lr: 1.0005e-42\n",
            "Epoch 94/150\n",
            "114/114 [==============================] - 12s 103ms/step - loss: 0.1029 - accuracy: 0.9757 - val_loss: 0.0249 - val_accuracy: 0.9967 - lr: 9.9492e-44\n",
            "Epoch 95/150\n",
            "114/114 [==============================] - ETA: 0s - loss: 0.1049 - accuracy: 0.9785\n",
            "Epoch 95: ReduceLROnPlateau reducing learning rate to 9.949219096706202e-45.\n",
            "114/114 [==============================] - 12s 103ms/step - loss: 0.1049 - accuracy: 0.9785 - val_loss: 0.0249 - val_accuracy: 0.9967 - lr: 9.9492e-44\n",
            "Epoch 96/150\n",
            "114/114 [==============================] - 13s 114ms/step - loss: 0.1017 - accuracy: 0.9771 - val_loss: 0.0249 - val_accuracy: 0.9967 - lr: 9.8091e-45\n",
            "Epoch 97/150\n",
            "114/114 [==============================] - ETA: 0s - loss: 0.1046 - accuracy: 0.9779\n",
            "Epoch 97: ReduceLROnPlateau reducing learning rate to 9.80908925027372e-46.\n",
            "114/114 [==============================] - 12s 101ms/step - loss: 0.1046 - accuracy: 0.9779 - val_loss: 0.0250 - val_accuracy: 0.9967 - lr: 9.8091e-45\n",
            "Epoch 98/150\n",
            "114/114 [==============================] - 12s 102ms/step - loss: 0.1083 - accuracy: 0.9727 - val_loss: 0.0249 - val_accuracy: 0.9967 - lr: 1.4013e-45\n",
            "Epoch 99/150\n",
            "114/114 [==============================] - ETA: 0s - loss: 0.1100 - accuracy: 0.9730\n",
            "Epoch 99: ReduceLROnPlateau reducing learning rate to 1.4012984643248171e-46.\n",
            "114/114 [==============================] - 12s 102ms/step - loss: 0.1100 - accuracy: 0.9730 - val_loss: 0.0249 - val_accuracy: 0.9967 - lr: 1.4013e-45\n",
            "Epoch 100/150\n",
            "114/114 [==============================] - 12s 104ms/step - loss: 0.1092 - accuracy: 0.9721 - val_loss: 0.0250 - val_accuracy: 0.9967 - lr: 0.0000e+00\n",
            "Epoch 101/150\n",
            "114/114 [==============================] - 12s 104ms/step - loss: 0.1214 - accuracy: 0.9691 - val_loss: 0.0250 - val_accuracy: 0.9967 - lr: 0.0000e+00\n",
            "Epoch 102/150\n",
            "114/114 [==============================] - 12s 109ms/step - loss: 0.1096 - accuracy: 0.9732 - val_loss: 0.0250 - val_accuracy: 0.9967 - lr: 0.0000e+00\n",
            "Epoch 103/150\n",
            "114/114 [==============================] - 13s 116ms/step - loss: 0.1163 - accuracy: 0.9746 - val_loss: 0.0250 - val_accuracy: 0.9967 - lr: 0.0000e+00\n",
            "Epoch 104/150\n",
            "114/114 [==============================] - 12s 106ms/step - loss: 0.1092 - accuracy: 0.9727 - val_loss: 0.0250 - val_accuracy: 0.9967 - lr: 0.0000e+00\n",
            "Epoch 105/150\n",
            "114/114 [==============================] - 12s 106ms/step - loss: 0.0958 - accuracy: 0.9755 - val_loss: 0.0249 - val_accuracy: 0.9967 - lr: 0.0000e+00\n",
            "Epoch 106/150\n",
            "114/114 [==============================] - 13s 115ms/step - loss: 0.1309 - accuracy: 0.9705 - val_loss: 0.0250 - val_accuracy: 0.9967 - lr: 0.0000e+00\n",
            "Epoch 107/150\n",
            "114/114 [==============================] - 12s 104ms/step - loss: 0.1182 - accuracy: 0.9732 - val_loss: 0.0250 - val_accuracy: 0.9967 - lr: 0.0000e+00\n",
            "Epoch 108/150\n",
            "114/114 [==============================] - 12s 103ms/step - loss: 0.1090 - accuracy: 0.9730 - val_loss: 0.0250 - val_accuracy: 0.9967 - lr: 0.0000e+00\n",
            "Epoch 109/150\n",
            "114/114 [==============================] - 13s 111ms/step - loss: 0.1161 - accuracy: 0.9724 - val_loss: 0.0250 - val_accuracy: 0.9967 - lr: 0.0000e+00\n",
            "Epoch 110/150\n",
            "114/114 [==============================] - 11s 96ms/step - loss: 0.1148 - accuracy: 0.9721 - val_loss: 0.0250 - val_accuracy: 0.9967 - lr: 0.0000e+00\n",
            "Epoch 111/150\n",
            "114/114 [==============================] - 11s 99ms/step - loss: 0.1201 - accuracy: 0.9708 - val_loss: 0.0250 - val_accuracy: 0.9967 - lr: 0.0000e+00\n",
            "Epoch 112/150\n",
            "114/114 [==============================] - 12s 103ms/step - loss: 0.1207 - accuracy: 0.9727 - val_loss: 0.0250 - val_accuracy: 0.9967 - lr: 0.0000e+00\n",
            "Epoch 113/150\n",
            "114/114 [==============================] - 12s 105ms/step - loss: 0.1129 - accuracy: 0.9732 - val_loss: 0.0250 - val_accuracy: 0.9967 - lr: 0.0000e+00\n",
            "Epoch 114/150\n",
            "114/114 [==============================] - 12s 104ms/step - loss: 0.0967 - accuracy: 0.9785 - val_loss: 0.0250 - val_accuracy: 0.9967 - lr: 0.0000e+00\n",
            "Epoch 115/150\n",
            "114/114 [==============================] - 12s 108ms/step - loss: 0.1069 - accuracy: 0.9721 - val_loss: 0.0250 - val_accuracy: 0.9967 - lr: 0.0000e+00\n",
            "Epoch 116/150\n",
            "114/114 [==============================] - 12s 104ms/step - loss: 0.1095 - accuracy: 0.9746 - val_loss: 0.0249 - val_accuracy: 0.9967 - lr: 0.0000e+00\n",
            "Epoch 117/150\n",
            "114/114 [==============================] - 12s 105ms/step - loss: 0.1088 - accuracy: 0.9755 - val_loss: 0.0250 - val_accuracy: 0.9967 - lr: 0.0000e+00\n",
            "Epoch 118/150\n",
            "114/114 [==============================] - 12s 105ms/step - loss: 0.1124 - accuracy: 0.9727 - val_loss: 0.0250 - val_accuracy: 0.9967 - lr: 0.0000e+00\n",
            "Epoch 119/150\n",
            "114/114 [==============================] - 12s 105ms/step - loss: 0.1134 - accuracy: 0.9721 - val_loss: 0.0250 - val_accuracy: 0.9967 - lr: 0.0000e+00\n",
            "Epoch 120/150\n",
            "114/114 [==============================] - 11s 99ms/step - loss: 0.1198 - accuracy: 0.9691 - val_loss: 0.0250 - val_accuracy: 0.9967 - lr: 0.0000e+00\n",
            "Epoch 121/150\n",
            "114/114 [==============================] - 12s 107ms/step - loss: 0.1147 - accuracy: 0.9757 - val_loss: 0.0250 - val_accuracy: 0.9967 - lr: 0.0000e+00\n",
            "Epoch 122/150\n",
            "114/114 [==============================] - 11s 98ms/step - loss: 0.1204 - accuracy: 0.9705 - val_loss: 0.0250 - val_accuracy: 0.9967 - lr: 0.0000e+00\n",
            "Epoch 123/150\n",
            "114/114 [==============================] - 12s 103ms/step - loss: 0.1086 - accuracy: 0.9755 - val_loss: 0.0250 - val_accuracy: 0.9967 - lr: 0.0000e+00\n",
            "Epoch 124/150\n",
            "114/114 [==============================] - 12s 104ms/step - loss: 0.1115 - accuracy: 0.9752 - val_loss: 0.0249 - val_accuracy: 0.9967 - lr: 0.0000e+00\n",
            "Epoch 125/150\n",
            "114/114 [==============================] - 12s 106ms/step - loss: 0.0993 - accuracy: 0.9771 - val_loss: 0.0250 - val_accuracy: 0.9967 - lr: 0.0000e+00\n",
            "Epoch 126/150\n",
            "114/114 [==============================] - 12s 105ms/step - loss: 0.0999 - accuracy: 0.9768 - val_loss: 0.0250 - val_accuracy: 0.9967 - lr: 0.0000e+00\n",
            "Epoch 127/150\n",
            "114/114 [==============================] - 12s 102ms/step - loss: 0.1284 - accuracy: 0.9702 - val_loss: 0.0250 - val_accuracy: 0.9967 - lr: 0.0000e+00\n",
            "Epoch 128/150\n",
            "114/114 [==============================] - 12s 107ms/step - loss: 0.0912 - accuracy: 0.9807 - val_loss: 0.0249 - val_accuracy: 0.9967 - lr: 0.0000e+00\n",
            "Epoch 129/150\n",
            "114/114 [==============================] - 12s 106ms/step - loss: 0.1049 - accuracy: 0.9752 - val_loss: 0.0249 - val_accuracy: 0.9967 - lr: 0.0000e+00\n",
            "Epoch 130/150\n",
            "114/114 [==============================] - 12s 106ms/step - loss: 0.0961 - accuracy: 0.9771 - val_loss: 0.0250 - val_accuracy: 0.9967 - lr: 0.0000e+00\n",
            "Epoch 131/150\n",
            "114/114 [==============================] - 12s 104ms/step - loss: 0.1176 - accuracy: 0.9727 - val_loss: 0.0250 - val_accuracy: 0.9967 - lr: 0.0000e+00\n",
            "Epoch 132/150\n",
            "114/114 [==============================] - 12s 104ms/step - loss: 0.1086 - accuracy: 0.9738 - val_loss: 0.0250 - val_accuracy: 0.9967 - lr: 0.0000e+00\n",
            "Epoch 133/150\n",
            "114/114 [==============================] - 12s 105ms/step - loss: 0.1129 - accuracy: 0.9705 - val_loss: 0.0250 - val_accuracy: 0.9967 - lr: 0.0000e+00\n",
            "Epoch 134/150\n",
            "114/114 [==============================] - 12s 109ms/step - loss: 0.1005 - accuracy: 0.9777 - val_loss: 0.0250 - val_accuracy: 0.9967 - lr: 0.0000e+00\n",
            "Epoch 135/150\n",
            "114/114 [==============================] - 12s 105ms/step - loss: 0.1250 - accuracy: 0.9697 - val_loss: 0.0251 - val_accuracy: 0.9967 - lr: 0.0000e+00\n",
            "Epoch 136/150\n",
            "114/114 [==============================] - 12s 104ms/step - loss: 0.1132 - accuracy: 0.9735 - val_loss: 0.0251 - val_accuracy: 0.9967 - lr: 0.0000e+00\n",
            "Epoch 137/150\n",
            "114/114 [==============================] - 12s 104ms/step - loss: 0.1059 - accuracy: 0.9752 - val_loss: 0.0251 - val_accuracy: 0.9967 - lr: 0.0000e+00\n",
            "Epoch 138/150\n",
            "114/114 [==============================] - 12s 104ms/step - loss: 0.1015 - accuracy: 0.9752 - val_loss: 0.0251 - val_accuracy: 0.9967 - lr: 0.0000e+00\n",
            "Epoch 139/150\n",
            "114/114 [==============================] - 12s 104ms/step - loss: 0.1002 - accuracy: 0.9785 - val_loss: 0.0251 - val_accuracy: 0.9967 - lr: 0.0000e+00\n",
            "Epoch 140/150\n",
            "114/114 [==============================] - 11s 100ms/step - loss: 0.1188 - accuracy: 0.9724 - val_loss: 0.0251 - val_accuracy: 0.9967 - lr: 0.0000e+00\n",
            "Epoch 141/150\n",
            "114/114 [==============================] - 12s 104ms/step - loss: 0.1218 - accuracy: 0.9746 - val_loss: 0.0251 - val_accuracy: 0.9967 - lr: 0.0000e+00\n",
            "Epoch 142/150\n",
            "114/114 [==============================] - 12s 105ms/step - loss: 0.0989 - accuracy: 0.9779 - val_loss: 0.0250 - val_accuracy: 0.9967 - lr: 0.0000e+00\n",
            "Epoch 143/150\n",
            "114/114 [==============================] - 12s 104ms/step - loss: 0.1098 - accuracy: 0.9768 - val_loss: 0.0250 - val_accuracy: 0.9967 - lr: 0.0000e+00\n",
            "Epoch 144/150\n",
            "114/114 [==============================] - 12s 104ms/step - loss: 0.0973 - accuracy: 0.9763 - val_loss: 0.0250 - val_accuracy: 0.9967 - lr: 0.0000e+00\n",
            "Epoch 145/150\n",
            "114/114 [==============================] - 11s 98ms/step - loss: 0.1159 - accuracy: 0.9721 - val_loss: 0.0250 - val_accuracy: 0.9967 - lr: 0.0000e+00\n",
            "Epoch 146/150\n",
            "114/114 [==============================] - 12s 104ms/step - loss: 0.1053 - accuracy: 0.9768 - val_loss: 0.0250 - val_accuracy: 0.9967 - lr: 0.0000e+00\n",
            "Epoch 147/150\n",
            "114/114 [==============================] - 13s 114ms/step - loss: 0.1175 - accuracy: 0.9724 - val_loss: 0.0250 - val_accuracy: 0.9967 - lr: 0.0000e+00\n",
            "Epoch 148/150\n",
            "114/114 [==============================] - 12s 107ms/step - loss: 0.1260 - accuracy: 0.9741 - val_loss: 0.0250 - val_accuracy: 0.9967 - lr: 0.0000e+00\n",
            "Epoch 149/150\n",
            "114/114 [==============================] - 12s 107ms/step - loss: 0.1054 - accuracy: 0.9735 - val_loss: 0.0250 - val_accuracy: 0.9967 - lr: 0.0000e+00\n",
            "Epoch 150/150\n",
            "114/114 [==============================] - 12s 108ms/step - loss: 0.1203 - accuracy: 0.9732 - val_loss: 0.0250 - val_accuracy: 0.9967 - lr: 0.0000e+00\n"
          ]
        }
      ],
      "source": [
        "History = model.fit(train_data,validation_data =valid_data,epochs = 150,batch_size =256,callbacks=[reduce_on_plateau])"
      ]
    },
    {
      "cell_type": "code",
      "source": [
        "model.save('/content/drive/MyDrive/model_letters.h5')"
      ],
      "metadata": {
        "id": "xFlcsK10T__i"
      },
      "execution_count": null,
      "outputs": []
    },
    {
      "cell_type": "code",
      "source": [
        "letters={0:'A',1:'B',2:'G',3:'D',4:'R',5:'S',6:'C',7:'T',8:'E',9:'F',10:'K',11:'L',12:'M',13:'N',14:'H',15:'W',16:'Y'}"
      ],
      "metadata": {
        "id": "g0AHru9w9VLm"
      },
      "execution_count": null,
      "outputs": []
    },
    {
      "cell_type": "code",
      "execution_count": null,
      "metadata": {
        "id": "-9zTjKDYB7-r"
      },
      "outputs": [],
      "source": []
    }
  ],
  "metadata": {
    "accelerator": "GPU",
    "colab": {
      "provenance": [],
      "gpuType": "T4"
    },
    "kernelspec": {
      "display_name": "Python 3",
      "name": "python3"
    },
    "language_info": {
      "name": "python"
    }
  },
  "nbformat": 4,
  "nbformat_minor": 0
}